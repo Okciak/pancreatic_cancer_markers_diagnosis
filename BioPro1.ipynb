{
 "cells": [
  {
   "cell_type": "markdown",
   "id": "7ee92824-afde-473d-a886-c15654544789",
   "metadata": {},
   "source": [
    "Urinary biomarkers for pancreatic cancer.\n",
    "\n",
    "Pancreatic cancer is an extremely deadly type of cancer. Once diagnosed, the five-year survival rate is less than 10%. However, if pancreatic cancer is caught early, the odds of surviving are much better. Unfortunately, many cases of pancreatic cancer show no symptoms until the cancer has spread throughout the body. A diagnostic test to identify people with pancreatic cancer could be enormously helpful.\n",
    "\n",
    "https://www.kaggle.com/datasets/johnjdavisiv/urinary-biomarkers-for-pancreatic-cancer?resource=download\n",
    "\n",
    "Can a simple urine test detect one of the deadliest cancers?"
   ]
  },
  {
   "cell_type": "code",
   "execution_count": 60,
   "id": "c5ed7e35-eb00-43fa-b7bc-21774a86b85c",
   "metadata": {},
   "outputs": [],
   "source": [
    "#Libraries"
   ]
  },
  {
   "cell_type": "code",
   "execution_count": 61,
   "id": "8488cf2b-499a-43f2-aa3f-aae2fff75846",
   "metadata": {},
   "outputs": [],
   "source": [
    "import pandas as pd\n",
    "import numpy as np\n",
    "import plotly.express as px\n",
    "import matplotlib.pyplot as plt\n",
    "from sklearn.model_selection import train_test_split\n",
    "from sklearn.impute import SimpleImputer\n",
    "from sklearn.preprocessing import StandardScaler\n",
    "\n",
    "from sklearn.ensemble import RandomForestClassifier\n",
    "from sklearn.metrics import accuracy_score, classification_report"
   ]
  },
  {
   "cell_type": "code",
   "execution_count": 62,
   "id": "8d9b1432-b2f0-4e17-9d78-9cea87e64951",
   "metadata": {},
   "outputs": [],
   "source": [
    "# Load and display data"
   ]
  },
  {
   "cell_type": "code",
   "execution_count": 64,
   "id": "2b98e9ae-1275-462f-8343-a75dd6c06dd7",
   "metadata": {
    "scrolled": true
   },
   "outputs": [
    {
     "data": {
      "text/html": [
       "<div>\n",
       "<style scoped>\n",
       "    .dataframe tbody tr th:only-of-type {\n",
       "        vertical-align: middle;\n",
       "    }\n",
       "\n",
       "    .dataframe tbody tr th {\n",
       "        vertical-align: top;\n",
       "    }\n",
       "\n",
       "    .dataframe thead th {\n",
       "        text-align: right;\n",
       "    }\n",
       "</style>\n",
       "<table border=\"1\" class=\"dataframe\">\n",
       "  <thead>\n",
       "    <tr style=\"text-align: right;\">\n",
       "      <th></th>\n",
       "      <th>sample_id</th>\n",
       "      <th>patient_cohort</th>\n",
       "      <th>sample_origin</th>\n",
       "      <th>age</th>\n",
       "      <th>sex</th>\n",
       "      <th>diagnosis</th>\n",
       "      <th>stage</th>\n",
       "      <th>benign_sample_diagnosis</th>\n",
       "      <th>plasma_CA19_9</th>\n",
       "      <th>creatinine</th>\n",
       "      <th>LYVE1</th>\n",
       "      <th>REG1B</th>\n",
       "      <th>TFF1</th>\n",
       "      <th>REG1A</th>\n",
       "    </tr>\n",
       "  </thead>\n",
       "  <tbody>\n",
       "    <tr>\n",
       "      <th>0</th>\n",
       "      <td>S1</td>\n",
       "      <td>Cohort1</td>\n",
       "      <td>BPTB</td>\n",
       "      <td>33</td>\n",
       "      <td>F</td>\n",
       "      <td>1</td>\n",
       "      <td>NaN</td>\n",
       "      <td>NaN</td>\n",
       "      <td>11.7</td>\n",
       "      <td>1.83222</td>\n",
       "      <td>0.893219</td>\n",
       "      <td>52.948840</td>\n",
       "      <td>654.282174</td>\n",
       "      <td>1262.000</td>\n",
       "    </tr>\n",
       "    <tr>\n",
       "      <th>1</th>\n",
       "      <td>S10</td>\n",
       "      <td>Cohort1</td>\n",
       "      <td>BPTB</td>\n",
       "      <td>81</td>\n",
       "      <td>F</td>\n",
       "      <td>1</td>\n",
       "      <td>NaN</td>\n",
       "      <td>NaN</td>\n",
       "      <td>NaN</td>\n",
       "      <td>0.97266</td>\n",
       "      <td>2.037585</td>\n",
       "      <td>94.467030</td>\n",
       "      <td>209.488250</td>\n",
       "      <td>228.407</td>\n",
       "    </tr>\n",
       "    <tr>\n",
       "      <th>2</th>\n",
       "      <td>S100</td>\n",
       "      <td>Cohort2</td>\n",
       "      <td>BPTB</td>\n",
       "      <td>51</td>\n",
       "      <td>M</td>\n",
       "      <td>1</td>\n",
       "      <td>NaN</td>\n",
       "      <td>NaN</td>\n",
       "      <td>7.0</td>\n",
       "      <td>0.78039</td>\n",
       "      <td>0.145589</td>\n",
       "      <td>102.366000</td>\n",
       "      <td>461.141000</td>\n",
       "      <td>NaN</td>\n",
       "    </tr>\n",
       "    <tr>\n",
       "      <th>3</th>\n",
       "      <td>S101</td>\n",
       "      <td>Cohort2</td>\n",
       "      <td>BPTB</td>\n",
       "      <td>61</td>\n",
       "      <td>M</td>\n",
       "      <td>1</td>\n",
       "      <td>NaN</td>\n",
       "      <td>NaN</td>\n",
       "      <td>8.0</td>\n",
       "      <td>0.70122</td>\n",
       "      <td>0.002805</td>\n",
       "      <td>60.579000</td>\n",
       "      <td>142.950000</td>\n",
       "      <td>NaN</td>\n",
       "    </tr>\n",
       "    <tr>\n",
       "      <th>4</th>\n",
       "      <td>S102</td>\n",
       "      <td>Cohort2</td>\n",
       "      <td>BPTB</td>\n",
       "      <td>62</td>\n",
       "      <td>M</td>\n",
       "      <td>1</td>\n",
       "      <td>NaN</td>\n",
       "      <td>NaN</td>\n",
       "      <td>9.0</td>\n",
       "      <td>0.21489</td>\n",
       "      <td>0.000860</td>\n",
       "      <td>65.540000</td>\n",
       "      <td>41.088000</td>\n",
       "      <td>NaN</td>\n",
       "    </tr>\n",
       "    <tr>\n",
       "      <th>...</th>\n",
       "      <td>...</td>\n",
       "      <td>...</td>\n",
       "      <td>...</td>\n",
       "      <td>...</td>\n",
       "      <td>...</td>\n",
       "      <td>...</td>\n",
       "      <td>...</td>\n",
       "      <td>...</td>\n",
       "      <td>...</td>\n",
       "      <td>...</td>\n",
       "      <td>...</td>\n",
       "      <td>...</td>\n",
       "      <td>...</td>\n",
       "      <td>...</td>\n",
       "    </tr>\n",
       "    <tr>\n",
       "      <th>585</th>\n",
       "      <td>S549</td>\n",
       "      <td>Cohort2</td>\n",
       "      <td>BPTB</td>\n",
       "      <td>68</td>\n",
       "      <td>M</td>\n",
       "      <td>3</td>\n",
       "      <td>IV</td>\n",
       "      <td>NaN</td>\n",
       "      <td>NaN</td>\n",
       "      <td>0.52026</td>\n",
       "      <td>7.058209</td>\n",
       "      <td>156.241000</td>\n",
       "      <td>525.178000</td>\n",
       "      <td>NaN</td>\n",
       "    </tr>\n",
       "    <tr>\n",
       "      <th>586</th>\n",
       "      <td>S558</td>\n",
       "      <td>Cohort2</td>\n",
       "      <td>BPTB</td>\n",
       "      <td>71</td>\n",
       "      <td>F</td>\n",
       "      <td>3</td>\n",
       "      <td>IV</td>\n",
       "      <td>NaN</td>\n",
       "      <td>NaN</td>\n",
       "      <td>0.85956</td>\n",
       "      <td>8.341207</td>\n",
       "      <td>16.915000</td>\n",
       "      <td>245.947000</td>\n",
       "      <td>NaN</td>\n",
       "    </tr>\n",
       "    <tr>\n",
       "      <th>587</th>\n",
       "      <td>S560</td>\n",
       "      <td>Cohort2</td>\n",
       "      <td>BPTB</td>\n",
       "      <td>63</td>\n",
       "      <td>M</td>\n",
       "      <td>3</td>\n",
       "      <td>IV</td>\n",
       "      <td>NaN</td>\n",
       "      <td>NaN</td>\n",
       "      <td>1.36851</td>\n",
       "      <td>7.674707</td>\n",
       "      <td>289.701000</td>\n",
       "      <td>537.286000</td>\n",
       "      <td>NaN</td>\n",
       "    </tr>\n",
       "    <tr>\n",
       "      <th>588</th>\n",
       "      <td>S583</td>\n",
       "      <td>Cohort2</td>\n",
       "      <td>BPTB</td>\n",
       "      <td>75</td>\n",
       "      <td>F</td>\n",
       "      <td>3</td>\n",
       "      <td>IV</td>\n",
       "      <td>NaN</td>\n",
       "      <td>NaN</td>\n",
       "      <td>1.33458</td>\n",
       "      <td>8.206777</td>\n",
       "      <td>205.930000</td>\n",
       "      <td>722.523000</td>\n",
       "      <td>NaN</td>\n",
       "    </tr>\n",
       "    <tr>\n",
       "      <th>589</th>\n",
       "      <td>S590</td>\n",
       "      <td>Cohort1</td>\n",
       "      <td>BPTB</td>\n",
       "      <td>74</td>\n",
       "      <td>M</td>\n",
       "      <td>3</td>\n",
       "      <td>IV</td>\n",
       "      <td>NaN</td>\n",
       "      <td>1488.0</td>\n",
       "      <td>1.50423</td>\n",
       "      <td>8.200958</td>\n",
       "      <td>411.938275</td>\n",
       "      <td>2021.321078</td>\n",
       "      <td>13200.000</td>\n",
       "    </tr>\n",
       "  </tbody>\n",
       "</table>\n",
       "<p>590 rows × 14 columns</p>\n",
       "</div>"
      ],
      "text/plain": [
       "    sample_id patient_cohort sample_origin  age sex  diagnosis stage  \\\n",
       "0          S1        Cohort1          BPTB   33   F          1   NaN   \n",
       "1         S10        Cohort1          BPTB   81   F          1   NaN   \n",
       "2        S100        Cohort2          BPTB   51   M          1   NaN   \n",
       "3        S101        Cohort2          BPTB   61   M          1   NaN   \n",
       "4        S102        Cohort2          BPTB   62   M          1   NaN   \n",
       "..        ...            ...           ...  ...  ..        ...   ...   \n",
       "585      S549        Cohort2          BPTB   68   M          3    IV   \n",
       "586      S558        Cohort2          BPTB   71   F          3    IV   \n",
       "587      S560        Cohort2          BPTB   63   M          3    IV   \n",
       "588      S583        Cohort2          BPTB   75   F          3    IV   \n",
       "589      S590        Cohort1          BPTB   74   M          3    IV   \n",
       "\n",
       "    benign_sample_diagnosis  plasma_CA19_9  creatinine     LYVE1       REG1B  \\\n",
       "0                       NaN           11.7     1.83222  0.893219   52.948840   \n",
       "1                       NaN            NaN     0.97266  2.037585   94.467030   \n",
       "2                       NaN            7.0     0.78039  0.145589  102.366000   \n",
       "3                       NaN            8.0     0.70122  0.002805   60.579000   \n",
       "4                       NaN            9.0     0.21489  0.000860   65.540000   \n",
       "..                      ...            ...         ...       ...         ...   \n",
       "585                     NaN            NaN     0.52026  7.058209  156.241000   \n",
       "586                     NaN            NaN     0.85956  8.341207   16.915000   \n",
       "587                     NaN            NaN     1.36851  7.674707  289.701000   \n",
       "588                     NaN            NaN     1.33458  8.206777  205.930000   \n",
       "589                     NaN         1488.0     1.50423  8.200958  411.938275   \n",
       "\n",
       "            TFF1      REG1A  \n",
       "0     654.282174   1262.000  \n",
       "1     209.488250    228.407  \n",
       "2     461.141000        NaN  \n",
       "3     142.950000        NaN  \n",
       "4      41.088000        NaN  \n",
       "..           ...        ...  \n",
       "585   525.178000        NaN  \n",
       "586   245.947000        NaN  \n",
       "587   537.286000        NaN  \n",
       "588   722.523000        NaN  \n",
       "589  2021.321078  13200.000  \n",
       "\n",
       "[590 rows x 14 columns]"
      ]
     },
     "execution_count": 64,
     "metadata": {},
     "output_type": "execute_result"
    }
   ],
   "source": [
    "filepath = \"/media/sf_SharedFolder/GEO Dataset/Urinary biomarkers for pancreatic cancer/Debernardi et al 2020 data.csv\"\n",
    "biomarkers_df = pd.read_csv(filepath)\n",
    "biomarkers_df"
   ]
  },
  {
   "cell_type": "code",
   "execution_count": 65,
   "id": "3e68f116-7859-423a-ae13-dce99f26f7f9",
   "metadata": {},
   "outputs": [],
   "source": [
    "#Age distribution according to diagnosis"
   ]
  },
  {
   "cell_type": "code",
   "execution_count": 66,
   "id": "91d76000-cc16-4595-8bb4-ecb241bfecc0",
   "metadata": {},
   "outputs": [
    {
     "data": {
      "application/vnd.plotly.v1+json": {
       "config": {
        "plotlyServerURL": "https://plot.ly"
       },
       "data": [
        {
         "alignmentgroup": "True",
         "bingroup": "x",
         "histnorm": "percent",
         "hovertemplate": "Diagnosis=1<br>Age=%{x}<br>percent=%{y}<extra></extra>",
         "legendgroup": "1",
         "marker": {
          "color": "LightSkyBlue",
          "pattern": {
           "shape": ""
          }
         },
         "name": "Healthy",
         "nbinsx": 30,
         "offsetgroup": "1",
         "orientation": "v",
         "showlegend": true,
         "type": "histogram",
         "x": [
          33,
          81,
          51,
          61,
          62,
          53,
          70,
          58,
          59,
          56,
          77,
          71,
          49,
          53,
          56,
          60,
          69,
          60,
          55,
          28,
          54,
          50,
          40,
          74,
          63,
          50,
          47,
          45,
          35,
          30,
          48,
          44,
          44,
          56,
          58,
          44,
          48,
          48,
          41,
          45,
          45,
          45,
          48,
          89,
          87,
          50,
          66,
          59,
          59,
          36,
          70,
          63,
          63,
          59,
          67,
          49,
          87,
          47,
          60,
          60,
          73,
          83,
          60,
          44,
          55,
          51,
          56,
          60,
          65,
          45,
          64,
          26,
          34,
          45,
          51,
          67,
          64,
          50,
          49,
          63,
          81,
          71,
          71,
          35,
          57,
          64,
          40,
          46,
          61,
          58,
          71,
          38,
          50,
          84,
          63,
          69,
          74,
          64,
          68,
          50,
          56,
          50,
          51,
          44,
          74,
          49,
          49,
          58,
          49,
          55,
          50,
          46,
          61,
          48,
          58,
          47,
          51,
          37,
          57,
          46,
          62,
          64,
          49,
          52,
          57,
          61,
          40,
          58,
          78,
          53,
          56,
          56,
          54,
          62,
          61,
          67,
          40,
          56,
          47,
          73,
          55,
          62,
          43,
          76,
          48,
          41,
          62,
          71,
          54,
          52,
          56,
          57,
          58,
          58,
          62,
          69,
          28,
          30,
          41,
          43,
          30,
          61,
          58,
          50,
          55,
          59,
          66,
          62,
          72,
          63,
          65,
          68,
          57,
          59,
          53,
          73,
          54,
          63,
          66,
          65,
          69,
          62,
          76
         ],
         "xaxis": "x",
         "yaxis": "y"
        },
        {
         "alignmentgroup": "True",
         "bingroup": "x",
         "histnorm": "percent",
         "hovertemplate": "Diagnosis=2<br>Age=%{x}<br>percent=%{y}<extra></extra>",
         "legendgroup": "2",
         "marker": {
          "color": "MediumSeaGreen",
          "pattern": {
           "shape": ""
          }
         },
         "name": "Non-cancerous Pancreatic Condition",
         "nbinsx": 30,
         "offsetgroup": "2",
         "orientation": "v",
         "showlegend": true,
         "type": "histogram",
         "x": [
          32,
          59,
          65,
          39,
          65,
          59,
          52,
          61,
          55,
          74,
          71,
          52,
          37,
          41,
          60,
          46,
          29,
          60,
          26,
          52,
          78,
          28,
          50,
          38,
          68,
          36,
          54,
          73,
          82,
          68,
          72,
          54,
          53,
          62,
          36,
          31,
          68,
          54,
          43,
          56,
          75,
          55,
          41,
          40,
          46,
          37,
          41,
          62,
          40,
          49,
          68,
          69,
          65,
          66,
          63,
          48,
          41,
          38,
          65,
          49,
          75,
          52,
          53,
          53,
          40,
          77,
          70,
          79,
          39,
          38,
          31,
          73,
          59,
          44,
          67,
          55,
          37,
          42,
          38,
          71,
          50,
          35,
          39,
          48,
          66,
          51,
          42,
          50,
          70,
          31,
          68,
          64,
          64,
          60,
          67,
          44,
          53,
          49,
          72,
          57,
          66,
          47,
          70,
          40,
          53,
          73,
          44,
          52,
          45,
          64,
          52,
          29,
          46,
          46,
          42,
          45,
          40,
          40,
          48,
          57,
          69,
          57,
          47,
          62,
          42,
          41,
          57,
          51,
          65,
          67,
          78,
          61,
          54,
          68,
          54,
          54,
          58,
          66,
          55,
          48,
          66,
          69,
          55,
          56,
          58,
          67,
          47,
          54,
          43,
          53,
          30,
          48,
          71,
          53,
          36,
          60,
          70,
          80,
          74,
          45,
          43,
          50,
          68,
          82,
          75,
          61,
          67,
          32,
          46,
          71,
          42,
          56,
          46,
          52,
          80,
          70,
          40,
          29,
          58,
          48,
          66,
          74,
          41,
          53,
          38,
          29,
          55,
          58,
          77,
          67,
          47,
          50,
          44,
          66,
          52,
          72,
          59,
          76,
          40,
          47,
          64,
          46,
          75,
          49,
          53,
          74,
          69,
          63
         ],
         "xaxis": "x",
         "yaxis": "y"
        },
        {
         "alignmentgroup": "True",
         "bingroup": "x",
         "histnorm": "percent",
         "hovertemplate": "Diagnosis=3<br>Age=%{x}<br>percent=%{y}<extra></extra>",
         "legendgroup": "3",
         "marker": {
          "color": "Salmon",
          "pattern": {
           "shape": ""
          }
         },
         "name": "Pancreatic Cancer",
         "nbinsx": 30,
         "offsetgroup": "3",
         "orientation": "v",
         "showlegend": true,
         "type": "histogram",
         "x": [
          81,
          57,
          55,
          58,
          73,
          75,
          68,
          77,
          56,
          67,
          75,
          74,
          77,
          63,
          60,
          52,
          69,
          53,
          82,
          54,
          66,
          81,
          55,
          68,
          67,
          75,
          64,
          64,
          55,
          56,
          72,
          48,
          73,
          71,
          73,
          62,
          69,
          66,
          74,
          77,
          77,
          61,
          58,
          69,
          61,
          77,
          62,
          45,
          67,
          68,
          71,
          75,
          63,
          71,
          73,
          54,
          59,
          61,
          74,
          73,
          78,
          70,
          82,
          58,
          62,
          76,
          79,
          68,
          70,
          62,
          73,
          72,
          79,
          78,
          59,
          66,
          80,
          63,
          44,
          76,
          70,
          60,
          77,
          79,
          71,
          77,
          67,
          58,
          73,
          68,
          70,
          52,
          67,
          53,
          61,
          66,
          66,
          57,
          82,
          88,
          67,
          49,
          72,
          66,
          55,
          65,
          72,
          76,
          60,
          57,
          65,
          78,
          69,
          68,
          58,
          68,
          70,
          62,
          51,
          69,
          67,
          67,
          50,
          77,
          83,
          59,
          76,
          56,
          39,
          63,
          39,
          70,
          68,
          78,
          73,
          75,
          83,
          54,
          60,
          66,
          64,
          57,
          64,
          61,
          67,
          68,
          71,
          78,
          82,
          62,
          64,
          51,
          86,
          56,
          59,
          64,
          75,
          60,
          51,
          65,
          68,
          48,
          68,
          60,
          56,
          50,
          47,
          29,
          53,
          63,
          75,
          72,
          75,
          73,
          53,
          80,
          42,
          47,
          44,
          58,
          87,
          78,
          85,
          81,
          78,
          65,
          70,
          78,
          78,
          46,
          61,
          58,
          84,
          66,
          68,
          71,
          63,
          75,
          74
         ],
         "xaxis": "x",
         "yaxis": "y"
        }
       ],
       "layout": {
        "autosize": true,
        "barmode": "relative",
        "legend": {
         "title": {
          "text": "Diagnosis"
         },
         "tracegroupgap": 0
        },
        "margin": {
         "t": 60
        },
        "template": {
         "data": {
          "bar": [
           {
            "error_x": {
             "color": "#2a3f5f"
            },
            "error_y": {
             "color": "#2a3f5f"
            },
            "marker": {
             "line": {
              "color": "#E5ECF6",
              "width": 0.5
             },
             "pattern": {
              "fillmode": "overlay",
              "size": 10,
              "solidity": 0.2
             }
            },
            "type": "bar"
           }
          ],
          "barpolar": [
           {
            "marker": {
             "line": {
              "color": "#E5ECF6",
              "width": 0.5
             },
             "pattern": {
              "fillmode": "overlay",
              "size": 10,
              "solidity": 0.2
             }
            },
            "type": "barpolar"
           }
          ],
          "carpet": [
           {
            "aaxis": {
             "endlinecolor": "#2a3f5f",
             "gridcolor": "white",
             "linecolor": "white",
             "minorgridcolor": "white",
             "startlinecolor": "#2a3f5f"
            },
            "baxis": {
             "endlinecolor": "#2a3f5f",
             "gridcolor": "white",
             "linecolor": "white",
             "minorgridcolor": "white",
             "startlinecolor": "#2a3f5f"
            },
            "type": "carpet"
           }
          ],
          "choropleth": [
           {
            "colorbar": {
             "outlinewidth": 0,
             "ticks": ""
            },
            "type": "choropleth"
           }
          ],
          "contour": [
           {
            "colorbar": {
             "outlinewidth": 0,
             "ticks": ""
            },
            "colorscale": [
             [
              0,
              "#0d0887"
             ],
             [
              0.1111111111111111,
              "#46039f"
             ],
             [
              0.2222222222222222,
              "#7201a8"
             ],
             [
              0.3333333333333333,
              "#9c179e"
             ],
             [
              0.4444444444444444,
              "#bd3786"
             ],
             [
              0.5555555555555556,
              "#d8576b"
             ],
             [
              0.6666666666666666,
              "#ed7953"
             ],
             [
              0.7777777777777778,
              "#fb9f3a"
             ],
             [
              0.8888888888888888,
              "#fdca26"
             ],
             [
              1,
              "#f0f921"
             ]
            ],
            "type": "contour"
           }
          ],
          "contourcarpet": [
           {
            "colorbar": {
             "outlinewidth": 0,
             "ticks": ""
            },
            "type": "contourcarpet"
           }
          ],
          "heatmap": [
           {
            "colorbar": {
             "outlinewidth": 0,
             "ticks": ""
            },
            "colorscale": [
             [
              0,
              "#0d0887"
             ],
             [
              0.1111111111111111,
              "#46039f"
             ],
             [
              0.2222222222222222,
              "#7201a8"
             ],
             [
              0.3333333333333333,
              "#9c179e"
             ],
             [
              0.4444444444444444,
              "#bd3786"
             ],
             [
              0.5555555555555556,
              "#d8576b"
             ],
             [
              0.6666666666666666,
              "#ed7953"
             ],
             [
              0.7777777777777778,
              "#fb9f3a"
             ],
             [
              0.8888888888888888,
              "#fdca26"
             ],
             [
              1,
              "#f0f921"
             ]
            ],
            "type": "heatmap"
           }
          ],
          "heatmapgl": [
           {
            "colorbar": {
             "outlinewidth": 0,
             "ticks": ""
            },
            "colorscale": [
             [
              0,
              "#0d0887"
             ],
             [
              0.1111111111111111,
              "#46039f"
             ],
             [
              0.2222222222222222,
              "#7201a8"
             ],
             [
              0.3333333333333333,
              "#9c179e"
             ],
             [
              0.4444444444444444,
              "#bd3786"
             ],
             [
              0.5555555555555556,
              "#d8576b"
             ],
             [
              0.6666666666666666,
              "#ed7953"
             ],
             [
              0.7777777777777778,
              "#fb9f3a"
             ],
             [
              0.8888888888888888,
              "#fdca26"
             ],
             [
              1,
              "#f0f921"
             ]
            ],
            "type": "heatmapgl"
           }
          ],
          "histogram": [
           {
            "marker": {
             "pattern": {
              "fillmode": "overlay",
              "size": 10,
              "solidity": 0.2
             }
            },
            "type": "histogram"
           }
          ],
          "histogram2d": [
           {
            "colorbar": {
             "outlinewidth": 0,
             "ticks": ""
            },
            "colorscale": [
             [
              0,
              "#0d0887"
             ],
             [
              0.1111111111111111,
              "#46039f"
             ],
             [
              0.2222222222222222,
              "#7201a8"
             ],
             [
              0.3333333333333333,
              "#9c179e"
             ],
             [
              0.4444444444444444,
              "#bd3786"
             ],
             [
              0.5555555555555556,
              "#d8576b"
             ],
             [
              0.6666666666666666,
              "#ed7953"
             ],
             [
              0.7777777777777778,
              "#fb9f3a"
             ],
             [
              0.8888888888888888,
              "#fdca26"
             ],
             [
              1,
              "#f0f921"
             ]
            ],
            "type": "histogram2d"
           }
          ],
          "histogram2dcontour": [
           {
            "colorbar": {
             "outlinewidth": 0,
             "ticks": ""
            },
            "colorscale": [
             [
              0,
              "#0d0887"
             ],
             [
              0.1111111111111111,
              "#46039f"
             ],
             [
              0.2222222222222222,
              "#7201a8"
             ],
             [
              0.3333333333333333,
              "#9c179e"
             ],
             [
              0.4444444444444444,
              "#bd3786"
             ],
             [
              0.5555555555555556,
              "#d8576b"
             ],
             [
              0.6666666666666666,
              "#ed7953"
             ],
             [
              0.7777777777777778,
              "#fb9f3a"
             ],
             [
              0.8888888888888888,
              "#fdca26"
             ],
             [
              1,
              "#f0f921"
             ]
            ],
            "type": "histogram2dcontour"
           }
          ],
          "mesh3d": [
           {
            "colorbar": {
             "outlinewidth": 0,
             "ticks": ""
            },
            "type": "mesh3d"
           }
          ],
          "parcoords": [
           {
            "line": {
             "colorbar": {
              "outlinewidth": 0,
              "ticks": ""
             }
            },
            "type": "parcoords"
           }
          ],
          "pie": [
           {
            "automargin": true,
            "type": "pie"
           }
          ],
          "scatter": [
           {
            "fillpattern": {
             "fillmode": "overlay",
             "size": 10,
             "solidity": 0.2
            },
            "type": "scatter"
           }
          ],
          "scatter3d": [
           {
            "line": {
             "colorbar": {
              "outlinewidth": 0,
              "ticks": ""
             }
            },
            "marker": {
             "colorbar": {
              "outlinewidth": 0,
              "ticks": ""
             }
            },
            "type": "scatter3d"
           }
          ],
          "scattercarpet": [
           {
            "marker": {
             "colorbar": {
              "outlinewidth": 0,
              "ticks": ""
             }
            },
            "type": "scattercarpet"
           }
          ],
          "scattergeo": [
           {
            "marker": {
             "colorbar": {
              "outlinewidth": 0,
              "ticks": ""
             }
            },
            "type": "scattergeo"
           }
          ],
          "scattergl": [
           {
            "marker": {
             "colorbar": {
              "outlinewidth": 0,
              "ticks": ""
             }
            },
            "type": "scattergl"
           }
          ],
          "scattermapbox": [
           {
            "marker": {
             "colorbar": {
              "outlinewidth": 0,
              "ticks": ""
             }
            },
            "type": "scattermapbox"
           }
          ],
          "scatterpolar": [
           {
            "marker": {
             "colorbar": {
              "outlinewidth": 0,
              "ticks": ""
             }
            },
            "type": "scatterpolar"
           }
          ],
          "scatterpolargl": [
           {
            "marker": {
             "colorbar": {
              "outlinewidth": 0,
              "ticks": ""
             }
            },
            "type": "scatterpolargl"
           }
          ],
          "scatterternary": [
           {
            "marker": {
             "colorbar": {
              "outlinewidth": 0,
              "ticks": ""
             }
            },
            "type": "scatterternary"
           }
          ],
          "surface": [
           {
            "colorbar": {
             "outlinewidth": 0,
             "ticks": ""
            },
            "colorscale": [
             [
              0,
              "#0d0887"
             ],
             [
              0.1111111111111111,
              "#46039f"
             ],
             [
              0.2222222222222222,
              "#7201a8"
             ],
             [
              0.3333333333333333,
              "#9c179e"
             ],
             [
              0.4444444444444444,
              "#bd3786"
             ],
             [
              0.5555555555555556,
              "#d8576b"
             ],
             [
              0.6666666666666666,
              "#ed7953"
             ],
             [
              0.7777777777777778,
              "#fb9f3a"
             ],
             [
              0.8888888888888888,
              "#fdca26"
             ],
             [
              1,
              "#f0f921"
             ]
            ],
            "type": "surface"
           }
          ],
          "table": [
           {
            "cells": {
             "fill": {
              "color": "#EBF0F8"
             },
             "line": {
              "color": "white"
             }
            },
            "header": {
             "fill": {
              "color": "#C8D4E3"
             },
             "line": {
              "color": "white"
             }
            },
            "type": "table"
           }
          ]
         },
         "layout": {
          "annotationdefaults": {
           "arrowcolor": "#2a3f5f",
           "arrowhead": 0,
           "arrowwidth": 1
          },
          "autotypenumbers": "strict",
          "coloraxis": {
           "colorbar": {
            "outlinewidth": 0,
            "ticks": ""
           }
          },
          "colorscale": {
           "diverging": [
            [
             0,
             "#8e0152"
            ],
            [
             0.1,
             "#c51b7d"
            ],
            [
             0.2,
             "#de77ae"
            ],
            [
             0.3,
             "#f1b6da"
            ],
            [
             0.4,
             "#fde0ef"
            ],
            [
             0.5,
             "#f7f7f7"
            ],
            [
             0.6,
             "#e6f5d0"
            ],
            [
             0.7,
             "#b8e186"
            ],
            [
             0.8,
             "#7fbc41"
            ],
            [
             0.9,
             "#4d9221"
            ],
            [
             1,
             "#276419"
            ]
           ],
           "sequential": [
            [
             0,
             "#0d0887"
            ],
            [
             0.1111111111111111,
             "#46039f"
            ],
            [
             0.2222222222222222,
             "#7201a8"
            ],
            [
             0.3333333333333333,
             "#9c179e"
            ],
            [
             0.4444444444444444,
             "#bd3786"
            ],
            [
             0.5555555555555556,
             "#d8576b"
            ],
            [
             0.6666666666666666,
             "#ed7953"
            ],
            [
             0.7777777777777778,
             "#fb9f3a"
            ],
            [
             0.8888888888888888,
             "#fdca26"
            ],
            [
             1,
             "#f0f921"
            ]
           ],
           "sequentialminus": [
            [
             0,
             "#0d0887"
            ],
            [
             0.1111111111111111,
             "#46039f"
            ],
            [
             0.2222222222222222,
             "#7201a8"
            ],
            [
             0.3333333333333333,
             "#9c179e"
            ],
            [
             0.4444444444444444,
             "#bd3786"
            ],
            [
             0.5555555555555556,
             "#d8576b"
            ],
            [
             0.6666666666666666,
             "#ed7953"
            ],
            [
             0.7777777777777778,
             "#fb9f3a"
            ],
            [
             0.8888888888888888,
             "#fdca26"
            ],
            [
             1,
             "#f0f921"
            ]
           ]
          },
          "colorway": [
           "#636efa",
           "#EF553B",
           "#00cc96",
           "#ab63fa",
           "#FFA15A",
           "#19d3f3",
           "#FF6692",
           "#B6E880",
           "#FF97FF",
           "#FECB52"
          ],
          "font": {
           "color": "#2a3f5f"
          },
          "geo": {
           "bgcolor": "white",
           "lakecolor": "white",
           "landcolor": "#E5ECF6",
           "showlakes": true,
           "showland": true,
           "subunitcolor": "white"
          },
          "hoverlabel": {
           "align": "left"
          },
          "hovermode": "closest",
          "mapbox": {
           "style": "light"
          },
          "paper_bgcolor": "white",
          "plot_bgcolor": "#E5ECF6",
          "polar": {
           "angularaxis": {
            "gridcolor": "white",
            "linecolor": "white",
            "ticks": ""
           },
           "bgcolor": "#E5ECF6",
           "radialaxis": {
            "gridcolor": "white",
            "linecolor": "white",
            "ticks": ""
           }
          },
          "scene": {
           "xaxis": {
            "backgroundcolor": "#E5ECF6",
            "gridcolor": "white",
            "gridwidth": 2,
            "linecolor": "white",
            "showbackground": true,
            "ticks": "",
            "zerolinecolor": "white"
           },
           "yaxis": {
            "backgroundcolor": "#E5ECF6",
            "gridcolor": "white",
            "gridwidth": 2,
            "linecolor": "white",
            "showbackground": true,
            "ticks": "",
            "zerolinecolor": "white"
           },
           "zaxis": {
            "backgroundcolor": "#E5ECF6",
            "gridcolor": "white",
            "gridwidth": 2,
            "linecolor": "white",
            "showbackground": true,
            "ticks": "",
            "zerolinecolor": "white"
           }
          },
          "shapedefaults": {
           "line": {
            "color": "#2a3f5f"
           }
          },
          "ternary": {
           "aaxis": {
            "gridcolor": "white",
            "linecolor": "white",
            "ticks": ""
           },
           "baxis": {
            "gridcolor": "white",
            "linecolor": "white",
            "ticks": ""
           },
           "bgcolor": "#E5ECF6",
           "caxis": {
            "gridcolor": "white",
            "linecolor": "white",
            "ticks": ""
           }
          },
          "title": {
           "x": 0.05
          },
          "xaxis": {
           "automargin": true,
           "gridcolor": "white",
           "linecolor": "white",
           "ticks": "",
           "title": {
            "standoff": 15
           },
           "zerolinecolor": "white",
           "zerolinewidth": 2
          },
          "yaxis": {
           "automargin": true,
           "gridcolor": "white",
           "linecolor": "white",
           "ticks": "",
           "title": {
            "standoff": 15
           },
           "zerolinecolor": "white",
           "zerolinewidth": 2
          }
         }
        },
        "title": {
         "text": "Age distribution according to diagnosis"
        },
        "xaxis": {
         "anchor": "y",
         "autorange": true,
         "domain": [
          0,
          1
         ],
         "range": [
          24.5,
          89.5
         ],
         "title": {
          "text": "Age"
         },
         "type": "linear"
        },
        "yaxis": {
         "anchor": "x",
         "autorange": true,
         "domain": [
          0,
          1
         ],
         "range": [
          0,
          43.4047435691766
         ],
         "title": {
          "text": "Percentage of patients"
         }
        }
       }
      },
      "image/png": "[encoded data removed]",
      "text/html": [
       "<div>                            <div id=\"c8397175-05c5-4de4-9d01-66d5716c30ef\" class=\"plotly-graph-div\" style=\"height:525px; width:100%;\"></div>            <script type=\"text/javascript\">                require([\"plotly\"], function(Plotly) {                    window.PLOTLYENV=window.PLOTLYENV || {};                                    if (document.getElementById(\"c8397175-05c5-4de4-9d01-66d5716c30ef\")) {                    Plotly.newPlot(                        \"c8397175-05c5-4de4-9d01-66d5716c30ef\",                        [{\"alignmentgroup\":\"True\",\"bingroup\":\"x\",\"histnorm\":\"percent\",\"hovertemplate\":\"Diagnosis=1\\u003cbr\\u003eAge=%{x}\\u003cbr\\u003epercent=%{y}\\u003cextra\\u003e\\u003c\\u002fextra\\u003e\",\"legendgroup\":\"1\",\"marker\":{\"color\":\"LightSkyBlue\",\"pattern\":{\"shape\":\"\"}},\"name\":\"Healthy\",\"nbinsx\":30,\"offsetgroup\":\"1\",\"orientation\":\"v\",\"showlegend\":true,\"x\":[33,81,51,61,62,53,70,58,59,56,77,71,49,53,56,60,69,60,55,28,54,50,40,74,63,50,47,45,35,30,48,44,44,56,58,44,48,48,41,45,45,45,48,89,87,50,66,59,59,36,70,63,63,59,67,49,87,47,60,60,73,83,60,44,55,51,56,60,65,45,64,26,34,45,51,67,64,50,49,63,81,71,71,35,57,64,40,46,61,58,71,38,50,84,63,69,74,64,68,50,56,50,51,44,74,49,49,58,49,55,50,46,61,48,58,47,51,37,57,46,62,64,49,52,57,61,40,58,78,53,56,56,54,62,61,67,40,56,47,73,55,62,43,76,48,41,62,71,54,52,56,57,58,58,62,69,28,30,41,43,30,61,58,50,55,59,66,62,72,63,65,68,57,59,53,73,54,63,66,65,69,62,76],\"xaxis\":\"x\",\"yaxis\":\"y\",\"type\":\"histogram\"},{\"alignmentgroup\":\"True\",\"bingroup\":\"x\",\"histnorm\":\"percent\",\"hovertemplate\":\"Diagnosis=2\\u003cbr\\u003eAge=%{x}\\u003cbr\\u003epercent=%{y}\\u003cextra\\u003e\\u003c\\u002fextra\\u003e\",\"legendgroup\":\"2\",\"marker\":{\"color\":\"MediumSeaGreen\",\"pattern\":{\"shape\":\"\"}},\"name\":\"Non-cancerous Pancreatic Condition\",\"nbinsx\":30,\"offsetgroup\":\"2\",\"orientation\":\"v\",\"showlegend\":true,\"x\":[32,59,65,39,65,59,52,61,55,74,71,52,37,41,60,46,29,60,26,52,78,28,50,38,68,36,54,73,82,68,72,54,53,62,36,31,68,54,43,56,75,55,41,40,46,37,41,62,40,49,68,69,65,66,63,48,41,38,65,49,75,52,53,53,40,77,70,79,39,38,31,73,59,44,67,55,37,42,38,71,50,35,39,48,66,51,42,50,70,31,68,64,64,60,67,44,53,49,72,57,66,47,70,40,53,73,44,52,45,64,52,29,46,46,42,45,40,40,48,57,69,57,47,62,42,41,57,51,65,67,78,61,54,68,54,54,58,66,55,48,66,69,55,56,58,67,47,54,43,53,30,48,71,53,36,60,70,80,74,45,43,50,68,82,75,61,67,32,46,71,42,56,46,52,80,70,40,29,58,48,66,74,41,53,38,29,55,58,77,67,47,50,44,66,52,72,59,76,40,47,64,46,75,49,53,74,69,63],\"xaxis\":\"x\",\"yaxis\":\"y\",\"type\":\"histogram\"},{\"alignmentgroup\":\"True\",\"bingroup\":\"x\",\"histnorm\":\"percent\",\"hovertemplate\":\"Diagnosis=3\\u003cbr\\u003eAge=%{x}\\u003cbr\\u003epercent=%{y}\\u003cextra\\u003e\\u003c\\u002fextra\\u003e\",\"legendgroup\":\"3\",\"marker\":{\"color\":\"Salmon\",\"pattern\":{\"shape\":\"\"}},\"name\":\"Pancreatic Cancer\",\"nbinsx\":30,\"offsetgroup\":\"3\",\"orientation\":\"v\",\"showlegend\":true,\"x\":[81,57,55,58,73,75,68,77,56,67,75,74,77,63,60,52,69,53,82,54,66,81,55,68,67,75,64,64,55,56,72,48,73,71,73,62,69,66,74,77,77,61,58,69,61,77,62,45,67,68,71,75,63,71,73,54,59,61,74,73,78,70,82,58,62,76,79,68,70,62,73,72,79,78,59,66,80,63,44,76,70,60,77,79,71,77,67,58,73,68,70,52,67,53,61,66,66,57,82,88,67,49,72,66,55,65,72,76,60,57,65,78,69,68,58,68,70,62,51,69,67,67,50,77,83,59,76,56,39,63,39,70,68,78,73,75,83,54,60,66,64,57,64,61,67,68,71,78,82,62,64,51,86,56,59,64,75,60,51,65,68,48,68,60,56,50,47,29,53,63,75,72,75,73,53,80,42,47,44,58,87,78,85,81,78,65,70,78,78,46,61,58,84,66,68,71,63,75,74],\"xaxis\":\"x\",\"yaxis\":\"y\",\"type\":\"histogram\"}],                        {\"template\":{\"data\":{\"histogram2dcontour\":[{\"type\":\"histogram2dcontour\",\"colorbar\":{\"outlinewidth\":0,\"ticks\":\"\"},\"colorscale\":[[0.0,\"#0d0887\"],[0.1111111111111111,\"#46039f\"],[0.2222222222222222,\"#7201a8\"],[0.3333333333333333,\"#9c179e\"],[0.4444444444444444,\"#bd3786\"],[0.5555555555555556,\"#d8576b\"],[0.6666666666666666,\"#ed7953\"],[0.7777777777777778,\"#fb9f3a\"],[0.8888888888888888,\"#fdca26\"],[1.0,\"#f0f921\"]]}],\"choropleth\":[{\"type\":\"choropleth\",\"colorbar\":{\"outlinewidth\":0,\"ticks\":\"\"}}],\"histogram2d\":[{\"type\":\"histogram2d\",\"colorbar\":{\"outlinewidth\":0,\"ticks\":\"\"},\"colorscale\":[[0.0,\"#0d0887\"],[0.1111111111111111,\"#46039f\"],[0.2222222222222222,\"#7201a8\"],[0.3333333333333333,\"#9c179e\"],[0.4444444444444444,\"#bd3786\"],[0.5555555555555556,\"#d8576b\"],[0.6666666666666666,\"#ed7953\"],[0.7777777777777778,\"#fb9f3a\"],[0.8888888888888888,\"#fdca26\"],[1.0,\"#f0f921\"]]}],\"heatmap\":[{\"type\":\"heatmap\",\"colorbar\":{\"outlinewidth\":0,\"ticks\":\"\"},\"colorscale\":[[0.0,\"#0d0887\"],[0.1111111111111111,\"#46039f\"],[0.2222222222222222,\"#7201a8\"],[0.3333333333333333,\"#9c179e\"],[0.4444444444444444,\"#bd3786\"],[0.5555555555555556,\"#d8576b\"],[0.6666666666666666,\"#ed7953\"],[0.7777777777777778,\"#fb9f3a\"],[0.8888888888888888,\"#fdca26\"],[1.0,\"#f0f921\"]]}],\"heatmapgl\":[{\"type\":\"heatmapgl\",\"colorbar\":{\"outlinewidth\":0,\"ticks\":\"\"},\"colorscale\":[[0.0,\"#0d0887\"],[0.1111111111111111,\"#46039f\"],[0.2222222222222222,\"#7201a8\"],[0.3333333333333333,\"#9c179e\"],[0.4444444444444444,\"#bd3786\"],[0.5555555555555556,\"#d8576b\"],[0.6666666666666666,\"#ed7953\"],[0.7777777777777778,\"#fb9f3a\"],[0.8888888888888888,\"#fdca26\"],[1.0,\"#f0f921\"]]}],\"contourcarpet\":[{\"type\":\"contourcarpet\",\"colorbar\":{\"outlinewidth\":0,\"ticks\":\"\"}}],\"contour\":[{\"type\":\"contour\",\"colorbar\":{\"outlinewidth\":0,\"ticks\":\"\"},\"colorscale\":[[0.0,\"#0d0887\"],[0.1111111111111111,\"#46039f\"],[0.2222222222222222,\"#7201a8\"],[0.3333333333333333,\"#9c179e\"],[0.4444444444444444,\"#bd3786\"],[0.5555555555555556,\"#d8576b\"],[0.6666666666666666,\"#ed7953\"],[0.7777777777777778,\"#fb9f3a\"],[0.8888888888888888,\"#fdca26\"],[1.0,\"#f0f921\"]]}],\"surface\":[{\"type\":\"surface\",\"colorbar\":{\"outlinewidth\":0,\"ticks\":\"\"},\"colorscale\":[[0.0,\"#0d0887\"],[0.1111111111111111,\"#46039f\"],[0.2222222222222222,\"#7201a8\"],[0.3333333333333333,\"#9c179e\"],[0.4444444444444444,\"#bd3786\"],[0.5555555555555556,\"#d8576b\"],[0.6666666666666666,\"#ed7953\"],[0.7777777777777778,\"#fb9f3a\"],[0.8888888888888888,\"#fdca26\"],[1.0,\"#f0f921\"]]}],\"mesh3d\":[{\"type\":\"mesh3d\",\"colorbar\":{\"outlinewidth\":0,\"ticks\":\"\"}}],\"scatter\":[{\"fillpattern\":{\"fillmode\":\"overlay\",\"size\":10,\"solidity\":0.2},\"type\":\"scatter\"}],\"parcoords\":[{\"type\":\"parcoords\",\"line\":{\"colorbar\":{\"outlinewidth\":0,\"ticks\":\"\"}}}],\"scatterpolargl\":[{\"type\":\"scatterpolargl\",\"marker\":{\"colorbar\":{\"outlinewidth\":0,\"ticks\":\"\"}}}],\"bar\":[{\"error_x\":{\"color\":\"#2a3f5f\"},\"error_y\":{\"color\":\"#2a3f5f\"},\"marker\":{\"line\":{\"color\":\"#E5ECF6\",\"width\":0.5},\"pattern\":{\"fillmode\":\"overlay\",\"size\":10,\"solidity\":0.2}},\"type\":\"bar\"}],\"scattergeo\":[{\"type\":\"scattergeo\",\"marker\":{\"colorbar\":{\"outlinewidth\":0,\"ticks\":\"\"}}}],\"scatterpolar\":[{\"type\":\"scatterpolar\",\"marker\":{\"colorbar\":{\"outlinewidth\":0,\"ticks\":\"\"}}}],\"histogram\":[{\"marker\":{\"pattern\":{\"fillmode\":\"overlay\",\"size\":10,\"solidity\":0.2}},\"type\":\"histogram\"}],\"scattergl\":[{\"type\":\"scattergl\",\"marker\":{\"colorbar\":{\"outlinewidth\":0,\"ticks\":\"\"}}}],\"scatter3d\":[{\"type\":\"scatter3d\",\"line\":{\"colorbar\":{\"outlinewidth\":0,\"ticks\":\"\"}},\"marker\":{\"colorbar\":{\"outlinewidth\":0,\"ticks\":\"\"}}}],\"scattermapbox\":[{\"type\":\"scattermapbox\",\"marker\":{\"colorbar\":{\"outlinewidth\":0,\"ticks\":\"\"}}}],\"scatterternary\":[{\"type\":\"scatterternary\",\"marker\":{\"colorbar\":{\"outlinewidth\":0,\"ticks\":\"\"}}}],\"scattercarpet\":[{\"type\":\"scattercarpet\",\"marker\":{\"colorbar\":{\"outlinewidth\":0,\"ticks\":\"\"}}}],\"carpet\":[{\"aaxis\":{\"endlinecolor\":\"#2a3f5f\",\"gridcolor\":\"white\",\"linecolor\":\"white\",\"minorgridcolor\":\"white\",\"startlinecolor\":\"#2a3f5f\"},\"baxis\":{\"endlinecolor\":\"#2a3f5f\",\"gridcolor\":\"white\",\"linecolor\":\"white\",\"minorgridcolor\":\"white\",\"startlinecolor\":\"#2a3f5f\"},\"type\":\"carpet\"}],\"table\":[{\"cells\":{\"fill\":{\"color\":\"#EBF0F8\"},\"line\":{\"color\":\"white\"}},\"header\":{\"fill\":{\"color\":\"#C8D4E3\"},\"line\":{\"color\":\"white\"}},\"type\":\"table\"}],\"barpolar\":[{\"marker\":{\"line\":{\"color\":\"#E5ECF6\",\"width\":0.5},\"pattern\":{\"fillmode\":\"overlay\",\"size\":10,\"solidity\":0.2}},\"type\":\"barpolar\"}],\"pie\":[{\"automargin\":true,\"type\":\"pie\"}]},\"layout\":{\"autotypenumbers\":\"strict\",\"colorway\":[\"#636efa\",\"#EF553B\",\"#00cc96\",\"#ab63fa\",\"#FFA15A\",\"#19d3f3\",\"#FF6692\",\"#B6E880\",\"#FF97FF\",\"#FECB52\"],\"font\":{\"color\":\"#2a3f5f\"},\"hovermode\":\"closest\",\"hoverlabel\":{\"align\":\"left\"},\"paper_bgcolor\":\"white\",\"plot_bgcolor\":\"#E5ECF6\",\"polar\":{\"bgcolor\":\"#E5ECF6\",\"angularaxis\":{\"gridcolor\":\"white\",\"linecolor\":\"white\",\"ticks\":\"\"},\"radialaxis\":{\"gridcolor\":\"white\",\"linecolor\":\"white\",\"ticks\":\"\"}},\"ternary\":{\"bgcolor\":\"#E5ECF6\",\"aaxis\":{\"gridcolor\":\"white\",\"linecolor\":\"white\",\"ticks\":\"\"},\"baxis\":{\"gridcolor\":\"white\",\"linecolor\":\"white\",\"ticks\":\"\"},\"caxis\":{\"gridcolor\":\"white\",\"linecolor\":\"white\",\"ticks\":\"\"}},\"coloraxis\":{\"colorbar\":{\"outlinewidth\":0,\"ticks\":\"\"}},\"colorscale\":{\"sequential\":[[0.0,\"#0d0887\"],[0.1111111111111111,\"#46039f\"],[0.2222222222222222,\"#7201a8\"],[0.3333333333333333,\"#9c179e\"],[0.4444444444444444,\"#bd3786\"],[0.5555555555555556,\"#d8576b\"],[0.6666666666666666,\"#ed7953\"],[0.7777777777777778,\"#fb9f3a\"],[0.8888888888888888,\"#fdca26\"],[1.0,\"#f0f921\"]],\"sequentialminus\":[[0.0,\"#0d0887\"],[0.1111111111111111,\"#46039f\"],[0.2222222222222222,\"#7201a8\"],[0.3333333333333333,\"#9c179e\"],[0.4444444444444444,\"#bd3786\"],[0.5555555555555556,\"#d8576b\"],[0.6666666666666666,\"#ed7953\"],[0.7777777777777778,\"#fb9f3a\"],[0.8888888888888888,\"#fdca26\"],[1.0,\"#f0f921\"]],\"diverging\":[[0,\"#8e0152\"],[0.1,\"#c51b7d\"],[0.2,\"#de77ae\"],[0.3,\"#f1b6da\"],[0.4,\"#fde0ef\"],[0.5,\"#f7f7f7\"],[0.6,\"#e6f5d0\"],[0.7,\"#b8e186\"],[0.8,\"#7fbc41\"],[0.9,\"#4d9221\"],[1,\"#276419\"]]},\"xaxis\":{\"gridcolor\":\"white\",\"linecolor\":\"white\",\"ticks\":\"\",\"title\":{\"standoff\":15},\"zerolinecolor\":\"white\",\"automargin\":true,\"zerolinewidth\":2},\"yaxis\":{\"gridcolor\":\"white\",\"linecolor\":\"white\",\"ticks\":\"\",\"title\":{\"standoff\":15},\"zerolinecolor\":\"white\",\"automargin\":true,\"zerolinewidth\":2},\"scene\":{\"xaxis\":{\"backgroundcolor\":\"#E5ECF6\",\"gridcolor\":\"white\",\"linecolor\":\"white\",\"showbackground\":true,\"ticks\":\"\",\"zerolinecolor\":\"white\",\"gridwidth\":2},\"yaxis\":{\"backgroundcolor\":\"#E5ECF6\",\"gridcolor\":\"white\",\"linecolor\":\"white\",\"showbackground\":true,\"ticks\":\"\",\"zerolinecolor\":\"white\",\"gridwidth\":2},\"zaxis\":{\"backgroundcolor\":\"#E5ECF6\",\"gridcolor\":\"white\",\"linecolor\":\"white\",\"showbackground\":true,\"ticks\":\"\",\"zerolinecolor\":\"white\",\"gridwidth\":2}},\"shapedefaults\":{\"line\":{\"color\":\"#2a3f5f\"}},\"annotationdefaults\":{\"arrowcolor\":\"#2a3f5f\",\"arrowhead\":0,\"arrowwidth\":1},\"geo\":{\"bgcolor\":\"white\",\"landcolor\":\"#E5ECF6\",\"subunitcolor\":\"white\",\"showland\":true,\"showlakes\":true,\"lakecolor\":\"white\"},\"title\":{\"x\":0.05},\"mapbox\":{\"style\":\"light\"}}},\"xaxis\":{\"anchor\":\"y\",\"domain\":[0.0,1.0],\"title\":{\"text\":\"Age\"}},\"yaxis\":{\"anchor\":\"x\",\"domain\":[0.0,1.0],\"title\":{\"text\":\"Percentage of patients\"}},\"legend\":{\"title\":{\"text\":\"Diagnosis\"},\"tracegroupgap\":0},\"margin\":{\"t\":60},\"barmode\":\"relative\",\"title\":{\"text\":\"Age distribution according to diagnosis\"}},                        {\"responsive\": true}                    ).then(function(){\n",
       "                            \n",
       "var gd = document.getElementById('c8397175-05c5-4de4-9d01-66d5716c30ef');\n",
       "var x = new MutationObserver(function (mutations, observer) {{\n",
       "        var display = window.getComputedStyle(gd).display;\n",
       "        if (!display || display === 'none') {{\n",
       "            console.log([gd, 'removed!']);\n",
       "            Plotly.purge(gd);\n",
       "            observer.disconnect();\n",
       "        }}\n",
       "}});\n",
       "\n",
       "// Listen for the removal of the full notebook cells\n",
       "var notebookContainer = gd.closest('#notebook-container');\n",
       "if (notebookContainer) {{\n",
       "    x.observe(notebookContainer, {childList: true});\n",
       "}}\n",
       "\n",
       "// Listen for the clearing of the current output cell\n",
       "var outputEl = gd.closest('.output');\n",
       "if (outputEl) {{\n",
       "    x.observe(outputEl, {childList: true});\n",
       "}}\n",
       "\n",
       "                        })                };                });            </script>        </div>"
      ]
     },
     "metadata": {},
     "output_type": "display_data"
    }
   ],
   "source": [
    "diagnosis_labels = {1: 'Healthy', 2: 'Non-cancerous Pancreatic Condition', 3: 'Pancreatic Cancer'}\n",
    "\n",
    "color_map = {1: 'LightSkyBlue', 2: 'MediumSeaGreen', 3: 'Salmon'}\n",
    "fig = px.histogram(biomarkers_df, x='age',\n",
    "                   color='diagnosis',\n",
    "                   color_discrete_map=color_map,  \n",
    "                   labels={'diagnosis':'Diagnosis', 'age':'Age'},\n",
    "                   category_orders={'diagnosis': [1, 2, 3]}, \n",
    "                   histnorm='percent', \n",
    "                   nbins=30, \n",
    "                   )\n",
    "fig.for_each_trace(lambda t: t.update(name=diagnosis_labels[int(t.name)]))\n",
    "\n",
    "fig.update_layout(title='Age distribution according to diagnosis',\n",
    "                  xaxis_title='Age',\n",
    "                  yaxis_title='Percentage of patients',\n",
    "                  legend_title='Diagnosis',\n",
    "                  )\n",
    "fig.show()"
   ]
  },
  {
   "cell_type": "code",
   "execution_count": 67,
   "id": "81972065-2d58-45a0-ad05-278c8f2bfb9a",
   "metadata": {},
   "outputs": [],
   "source": [
    "# Remove columns that will not be used "
   ]
  },
  {
   "cell_type": "code",
   "execution_count": 68,
   "id": "6df4c9b3-515c-42a2-8d24-69a7d2917acf",
   "metadata": {},
   "outputs": [],
   "source": [
    "biomarkers_df.drop(['sample_id', 'patient_cohort', 'sample_origin', 'stage', 'benign_sample_diagnosis'], axis=1, inplace=True)"
   ]
  },
  {
   "cell_type": "code",
   "execution_count": 69,
   "id": "2a4e743e-9904-49c8-9da8-1a8b6e5c1db4",
   "metadata": {},
   "outputs": [],
   "source": [
    "#Inserting the average for missing values (not always the best)"
   ]
  },
  {
   "cell_type": "code",
   "execution_count": 70,
   "id": "ef82e5b2-4999-4bd0-b4ff-5e2a55eecdd0",
   "metadata": {},
   "outputs": [],
   "source": [
    "imputer = SimpleImputer(strategy='mean')\n",
    "biomarkers_df[['plasma_CA19_9', 'REG1A']] = imputer.fit_transform(biomarkers_df[['plasma_CA19_9', 'REG1A']])"
   ]
  },
  {
   "cell_type": "code",
   "execution_count": 71,
   "id": "5f8e2765-5510-425b-b01d-5d743cf2aa7a",
   "metadata": {},
   "outputs": [],
   "source": [
    "#Coding of the categorical variable 'sex'"
   ]
  },
  {
   "cell_type": "code",
   "execution_count": 72,
   "id": "de76ea61-8aed-41a0-bed2-0fef43c549b5",
   "metadata": {},
   "outputs": [],
   "source": [
    "biomarkers_df['sex'] = biomarkers_df['sex'].map({'M': 0, 'F': 1})"
   ]
  },
  {
   "cell_type": "code",
   "execution_count": 73,
   "id": "ead0818d-1510-4b24-a81f-26b96d958baa",
   "metadata": {},
   "outputs": [
    {
     "data": {
      "text/plain": [
       "{0, 1}"
      ]
     },
     "execution_count": 73,
     "metadata": {},
     "output_type": "execute_result"
    }
   ],
   "source": [
    "biomarkers_df['diagnosis'].replace({1: 0, 2: 0, 3:1}, inplace=True) # I want to predict if patient has cancer or not -> 0 -> without cancer, 1 -> with cancer\n",
    "set(biomarkers_df['diagnosis'].values)"
   ]
  },
  {
   "cell_type": "code",
   "execution_count": 74,
   "id": "7ba66e7e-5314-4cc7-b1ef-64bf9241cd72",
   "metadata": {},
   "outputs": [],
   "source": [
    "#Is dataset balanced?"
   ]
  },
  {
   "cell_type": "code",
   "execution_count": 75,
   "id": "5c28c8a2-a03f-4b53-a3c2-ca740ac0aafb",
   "metadata": {},
   "outputs": [
    {
     "data": {
      "text/plain": [
       "diagnosis\n",
       "0    391\n",
       "1    199\n",
       "Name: count, dtype: int64"
      ]
     },
     "execution_count": 75,
     "metadata": {},
     "output_type": "execute_result"
    }
   ],
   "source": [
    "biomarkers_df['diagnosis'].value_counts()"
   ]
  },
  {
   "cell_type": "code",
   "execution_count": 76,
   "id": "00bb01a2-1b69-4604-83c1-8087db602333",
   "metadata": {},
   "outputs": [],
   "source": [
    "#Data normalization (mean = 0, std = 1)"
   ]
  },
  {
   "cell_type": "code",
   "execution_count": 77,
   "id": "30d3332b-3371-4d7a-b2e3-aa523ed6c99b",
   "metadata": {},
   "outputs": [
    {
     "data": {
      "text/html": [
       "<div>\n",
       "<style scoped>\n",
       "    .dataframe tbody tr th:only-of-type {\n",
       "        vertical-align: middle;\n",
       "    }\n",
       "\n",
       "    .dataframe tbody tr th {\n",
       "        vertical-align: top;\n",
       "    }\n",
       "\n",
       "    .dataframe thead th {\n",
       "        text-align: right;\n",
       "    }\n",
       "</style>\n",
       "<table border=\"1\" class=\"dataframe\">\n",
       "  <thead>\n",
       "    <tr style=\"text-align: right;\">\n",
       "      <th></th>\n",
       "      <th>age</th>\n",
       "      <th>plasma_CA19_9</th>\n",
       "      <th>creatinine</th>\n",
       "      <th>LYVE1</th>\n",
       "      <th>REG1B</th>\n",
       "      <th>TFF1</th>\n",
       "      <th>REG1A</th>\n",
       "    </tr>\n",
       "  </thead>\n",
       "  <tbody>\n",
       "    <tr>\n",
       "      <th>0</th>\n",
       "      <td>-1.991056</td>\n",
       "      <td>-3.436293e-01</td>\n",
       "      <td>1.529927</td>\n",
       "      <td>-0.631661</td>\n",
       "      <td>-0.299975</td>\n",
       "      <td>0.055876</td>\n",
       "      <td>4.959085e-01</td>\n",
       "    </tr>\n",
       "    <tr>\n",
       "      <th>1</th>\n",
       "      <td>1.673512</td>\n",
       "      <td>-6.082196e-17</td>\n",
       "      <td>0.183680</td>\n",
       "      <td>-0.298597</td>\n",
       "      <td>-0.088256</td>\n",
       "      <td>-0.384680</td>\n",
       "      <td>-4.772248e-01</td>\n",
       "    </tr>\n",
       "    <tr>\n",
       "      <th>2</th>\n",
       "      <td>-0.616843</td>\n",
       "      <td>-3.461438e-01</td>\n",
       "      <td>-0.117454</td>\n",
       "      <td>-0.849256</td>\n",
       "      <td>-0.047976</td>\n",
       "      <td>-0.135425</td>\n",
       "      <td>-1.070368e-16</td>\n",
       "    </tr>\n",
       "    <tr>\n",
       "      <th>3</th>\n",
       "      <td>0.146609</td>\n",
       "      <td>-3.456088e-01</td>\n",
       "      <td>-0.241451</td>\n",
       "      <td>-0.890812</td>\n",
       "      <td>-0.261065</td>\n",
       "      <td>-0.450584</td>\n",
       "      <td>-1.070368e-16</td>\n",
       "    </tr>\n",
       "    <tr>\n",
       "      <th>4</th>\n",
       "      <td>0.222954</td>\n",
       "      <td>-3.450738e-01</td>\n",
       "      <td>-1.003143</td>\n",
       "      <td>-0.891378</td>\n",
       "      <td>-0.235767</td>\n",
       "      <td>-0.551475</td>\n",
       "      <td>-1.070368e-16</td>\n",
       "    </tr>\n",
       "    <tr>\n",
       "      <th>...</th>\n",
       "      <td>...</td>\n",
       "      <td>...</td>\n",
       "      <td>...</td>\n",
       "      <td>...</td>\n",
       "      <td>...</td>\n",
       "      <td>...</td>\n",
       "      <td>...</td>\n",
       "    </tr>\n",
       "    <tr>\n",
       "      <th>585</th>\n",
       "      <td>0.681025</td>\n",
       "      <td>-6.082196e-17</td>\n",
       "      <td>-0.524871</td>\n",
       "      <td>1.162636</td>\n",
       "      <td>0.226755</td>\n",
       "      <td>-0.071998</td>\n",
       "      <td>-1.070368e-16</td>\n",
       "    </tr>\n",
       "    <tr>\n",
       "      <th>586</th>\n",
       "      <td>0.910060</td>\n",
       "      <td>-6.082196e-17</td>\n",
       "      <td>0.006542</td>\n",
       "      <td>1.536048</td>\n",
       "      <td>-0.483726</td>\n",
       "      <td>-0.348568</td>\n",
       "      <td>-1.070368e-16</td>\n",
       "    </tr>\n",
       "    <tr>\n",
       "      <th>587</th>\n",
       "      <td>0.299299</td>\n",
       "      <td>-6.082196e-17</td>\n",
       "      <td>0.803662</td>\n",
       "      <td>1.342066</td>\n",
       "      <td>0.907324</td>\n",
       "      <td>-0.060005</td>\n",
       "      <td>-1.070368e-16</td>\n",
       "    </tr>\n",
       "    <tr>\n",
       "      <th>588</th>\n",
       "      <td>1.215441</td>\n",
       "      <td>-6.082196e-17</td>\n",
       "      <td>0.750521</td>\n",
       "      <td>1.496923</td>\n",
       "      <td>0.480141</td>\n",
       "      <td>0.123466</td>\n",
       "      <td>-1.070368e-16</td>\n",
       "    </tr>\n",
       "    <tr>\n",
       "      <th>589</th>\n",
       "      <td>1.139096</td>\n",
       "      <td>4.461848e-01</td>\n",
       "      <td>1.016227</td>\n",
       "      <td>1.495229</td>\n",
       "      <td>1.530663</td>\n",
       "      <td>1.409888</td>\n",
       "      <td>1.173560e+01</td>\n",
       "    </tr>\n",
       "  </tbody>\n",
       "</table>\n",
       "<p>590 rows × 7 columns</p>\n",
       "</div>"
      ],
      "text/plain": [
       "          age  plasma_CA19_9  creatinine     LYVE1     REG1B      TFF1  \\\n",
       "0   -1.991056  -3.436293e-01    1.529927 -0.631661 -0.299975  0.055876   \n",
       "1    1.673512  -6.082196e-17    0.183680 -0.298597 -0.088256 -0.384680   \n",
       "2   -0.616843  -3.461438e-01   -0.117454 -0.849256 -0.047976 -0.135425   \n",
       "3    0.146609  -3.456088e-01   -0.241451 -0.890812 -0.261065 -0.450584   \n",
       "4    0.222954  -3.450738e-01   -1.003143 -0.891378 -0.235767 -0.551475   \n",
       "..        ...            ...         ...       ...       ...       ...   \n",
       "585  0.681025  -6.082196e-17   -0.524871  1.162636  0.226755 -0.071998   \n",
       "586  0.910060  -6.082196e-17    0.006542  1.536048 -0.483726 -0.348568   \n",
       "587  0.299299  -6.082196e-17    0.803662  1.342066  0.907324 -0.060005   \n",
       "588  1.215441  -6.082196e-17    0.750521  1.496923  0.480141  0.123466   \n",
       "589  1.139096   4.461848e-01    1.016227  1.495229  1.530663  1.409888   \n",
       "\n",
       "            REG1A  \n",
       "0    4.959085e-01  \n",
       "1   -4.772248e-01  \n",
       "2   -1.070368e-16  \n",
       "3   -1.070368e-16  \n",
       "4   -1.070368e-16  \n",
       "..            ...  \n",
       "585 -1.070368e-16  \n",
       "586 -1.070368e-16  \n",
       "587 -1.070368e-16  \n",
       "588 -1.070368e-16  \n",
       "589  1.173560e+01  \n",
       "\n",
       "[590 rows x 7 columns]"
      ]
     },
     "execution_count": 77,
     "metadata": {},
     "output_type": "execute_result"
    }
   ],
   "source": [
    "scaler = StandardScaler()\n",
    "scaled_features = scaler.fit_transform(biomarkers_df.drop(['diagnosis', 'sex'], axis=1))\n",
    "bm_normalized_df = pd.DataFrame(scaled_features, columns=biomarkers_df.drop(['diagnosis', 'sex'], axis=1).columns)\n",
    "bm_normalized_df"
   ]
  },
  {
   "cell_type": "code",
   "execution_count": 78,
   "id": "35302f63-7e7f-4a8e-81fa-416cf13ce69f",
   "metadata": {},
   "outputs": [],
   "source": [
    "#Adding sex column back (no need to normalize sex -> 1 or 0)"
   ]
  },
  {
   "cell_type": "code",
   "execution_count": 79,
   "id": "484caeb3-6084-4d82-af67-9c8a32365e7c",
   "metadata": {},
   "outputs": [],
   "source": [
    "bm_normalized_df['sex'] = biomarkers_df['sex'].reset_index(drop=True) #Reset index to avoid problems with index mismatch"
   ]
  },
  {
   "cell_type": "code",
   "execution_count": 80,
   "id": "85a070da-2172-4ade-9a95-74a225d321ba",
   "metadata": {},
   "outputs": [],
   "source": [
    "#Adding the diagnosis column back to the DataFrame ensures that we have a complete dataset that includes both the scaled features and their corresponding labels. We can easily divide the data set into training and testing parts, maintaining the appropriate correlation between the features and the target variable."
   ]
  },
  {
   "cell_type": "code",
   "execution_count": 81,
   "id": "e48f4310-efd9-4b63-bf4f-7c41f06ed2cd",
   "metadata": {},
   "outputs": [
    {
     "data": {
      "text/html": [
       "<div>\n",
       "<style scoped>\n",
       "    .dataframe tbody tr th:only-of-type {\n",
       "        vertical-align: middle;\n",
       "    }\n",
       "\n",
       "    .dataframe tbody tr th {\n",
       "        vertical-align: top;\n",
       "    }\n",
       "\n",
       "    .dataframe thead th {\n",
       "        text-align: right;\n",
       "    }\n",
       "</style>\n",
       "<table border=\"1\" class=\"dataframe\">\n",
       "  <thead>\n",
       "    <tr style=\"text-align: right;\">\n",
       "      <th></th>\n",
       "      <th>age</th>\n",
       "      <th>plasma_CA19_9</th>\n",
       "      <th>creatinine</th>\n",
       "      <th>LYVE1</th>\n",
       "      <th>REG1B</th>\n",
       "      <th>TFF1</th>\n",
       "      <th>REG1A</th>\n",
       "      <th>sex</th>\n",
       "      <th>diagnosis</th>\n",
       "    </tr>\n",
       "  </thead>\n",
       "  <tbody>\n",
       "    <tr>\n",
       "      <th>0</th>\n",
       "      <td>-1.991056</td>\n",
       "      <td>-3.436293e-01</td>\n",
       "      <td>1.529927</td>\n",
       "      <td>-0.631661</td>\n",
       "      <td>-0.299975</td>\n",
       "      <td>0.055876</td>\n",
       "      <td>4.959085e-01</td>\n",
       "      <td>1</td>\n",
       "      <td>0</td>\n",
       "    </tr>\n",
       "    <tr>\n",
       "      <th>1</th>\n",
       "      <td>1.673512</td>\n",
       "      <td>-6.082196e-17</td>\n",
       "      <td>0.183680</td>\n",
       "      <td>-0.298597</td>\n",
       "      <td>-0.088256</td>\n",
       "      <td>-0.384680</td>\n",
       "      <td>-4.772248e-01</td>\n",
       "      <td>1</td>\n",
       "      <td>0</td>\n",
       "    </tr>\n",
       "    <tr>\n",
       "      <th>2</th>\n",
       "      <td>-0.616843</td>\n",
       "      <td>-3.461438e-01</td>\n",
       "      <td>-0.117454</td>\n",
       "      <td>-0.849256</td>\n",
       "      <td>-0.047976</td>\n",
       "      <td>-0.135425</td>\n",
       "      <td>-1.070368e-16</td>\n",
       "      <td>0</td>\n",
       "      <td>0</td>\n",
       "    </tr>\n",
       "    <tr>\n",
       "      <th>3</th>\n",
       "      <td>0.146609</td>\n",
       "      <td>-3.456088e-01</td>\n",
       "      <td>-0.241451</td>\n",
       "      <td>-0.890812</td>\n",
       "      <td>-0.261065</td>\n",
       "      <td>-0.450584</td>\n",
       "      <td>-1.070368e-16</td>\n",
       "      <td>0</td>\n",
       "      <td>0</td>\n",
       "    </tr>\n",
       "    <tr>\n",
       "      <th>4</th>\n",
       "      <td>0.222954</td>\n",
       "      <td>-3.450738e-01</td>\n",
       "      <td>-1.003143</td>\n",
       "      <td>-0.891378</td>\n",
       "      <td>-0.235767</td>\n",
       "      <td>-0.551475</td>\n",
       "      <td>-1.070368e-16</td>\n",
       "      <td>0</td>\n",
       "      <td>0</td>\n",
       "    </tr>\n",
       "    <tr>\n",
       "      <th>...</th>\n",
       "      <td>...</td>\n",
       "      <td>...</td>\n",
       "      <td>...</td>\n",
       "      <td>...</td>\n",
       "      <td>...</td>\n",
       "      <td>...</td>\n",
       "      <td>...</td>\n",
       "      <td>...</td>\n",
       "      <td>...</td>\n",
       "    </tr>\n",
       "    <tr>\n",
       "      <th>585</th>\n",
       "      <td>0.681025</td>\n",
       "      <td>-6.082196e-17</td>\n",
       "      <td>-0.524871</td>\n",
       "      <td>1.162636</td>\n",
       "      <td>0.226755</td>\n",
       "      <td>-0.071998</td>\n",
       "      <td>-1.070368e-16</td>\n",
       "      <td>0</td>\n",
       "      <td>1</td>\n",
       "    </tr>\n",
       "    <tr>\n",
       "      <th>586</th>\n",
       "      <td>0.910060</td>\n",
       "      <td>-6.082196e-17</td>\n",
       "      <td>0.006542</td>\n",
       "      <td>1.536048</td>\n",
       "      <td>-0.483726</td>\n",
       "      <td>-0.348568</td>\n",
       "      <td>-1.070368e-16</td>\n",
       "      <td>1</td>\n",
       "      <td>1</td>\n",
       "    </tr>\n",
       "    <tr>\n",
       "      <th>587</th>\n",
       "      <td>0.299299</td>\n",
       "      <td>-6.082196e-17</td>\n",
       "      <td>0.803662</td>\n",
       "      <td>1.342066</td>\n",
       "      <td>0.907324</td>\n",
       "      <td>-0.060005</td>\n",
       "      <td>-1.070368e-16</td>\n",
       "      <td>0</td>\n",
       "      <td>1</td>\n",
       "    </tr>\n",
       "    <tr>\n",
       "      <th>588</th>\n",
       "      <td>1.215441</td>\n",
       "      <td>-6.082196e-17</td>\n",
       "      <td>0.750521</td>\n",
       "      <td>1.496923</td>\n",
       "      <td>0.480141</td>\n",
       "      <td>0.123466</td>\n",
       "      <td>-1.070368e-16</td>\n",
       "      <td>1</td>\n",
       "      <td>1</td>\n",
       "    </tr>\n",
       "    <tr>\n",
       "      <th>589</th>\n",
       "      <td>1.139096</td>\n",
       "      <td>4.461848e-01</td>\n",
       "      <td>1.016227</td>\n",
       "      <td>1.495229</td>\n",
       "      <td>1.530663</td>\n",
       "      <td>1.409888</td>\n",
       "      <td>1.173560e+01</td>\n",
       "      <td>0</td>\n",
       "      <td>1</td>\n",
       "    </tr>\n",
       "  </tbody>\n",
       "</table>\n",
       "<p>590 rows × 9 columns</p>\n",
       "</div>"
      ],
      "text/plain": [
       "          age  plasma_CA19_9  creatinine     LYVE1     REG1B      TFF1  \\\n",
       "0   -1.991056  -3.436293e-01    1.529927 -0.631661 -0.299975  0.055876   \n",
       "1    1.673512  -6.082196e-17    0.183680 -0.298597 -0.088256 -0.384680   \n",
       "2   -0.616843  -3.461438e-01   -0.117454 -0.849256 -0.047976 -0.135425   \n",
       "3    0.146609  -3.456088e-01   -0.241451 -0.890812 -0.261065 -0.450584   \n",
       "4    0.222954  -3.450738e-01   -1.003143 -0.891378 -0.235767 -0.551475   \n",
       "..        ...            ...         ...       ...       ...       ...   \n",
       "585  0.681025  -6.082196e-17   -0.524871  1.162636  0.226755 -0.071998   \n",
       "586  0.910060  -6.082196e-17    0.006542  1.536048 -0.483726 -0.348568   \n",
       "587  0.299299  -6.082196e-17    0.803662  1.342066  0.907324 -0.060005   \n",
       "588  1.215441  -6.082196e-17    0.750521  1.496923  0.480141  0.123466   \n",
       "589  1.139096   4.461848e-01    1.016227  1.495229  1.530663  1.409888   \n",
       "\n",
       "            REG1A  sex  diagnosis  \n",
       "0    4.959085e-01    1          0  \n",
       "1   -4.772248e-01    1          0  \n",
       "2   -1.070368e-16    0          0  \n",
       "3   -1.070368e-16    0          0  \n",
       "4   -1.070368e-16    0          0  \n",
       "..            ...  ...        ...  \n",
       "585 -1.070368e-16    0          1  \n",
       "586 -1.070368e-16    1          1  \n",
       "587 -1.070368e-16    0          1  \n",
       "588 -1.070368e-16    1          1  \n",
       "589  1.173560e+01    0          1  \n",
       "\n",
       "[590 rows x 9 columns]"
      ]
     },
     "execution_count": 81,
     "metadata": {},
     "output_type": "execute_result"
    }
   ],
   "source": [
    "bm_normalized_df['diagnosis'] = biomarkers_df['diagnosis'].reset_index(drop=True)\n",
    "bm_normalized_df"
   ]
  },
  {
   "cell_type": "code",
   "execution_count": 82,
   "id": "e1f601b2-fe7a-4e3b-abb4-98ad37f8af8a",
   "metadata": {},
   "outputs": [],
   "source": [
    "#Division of data into training and test sets"
   ]
  },
  {
   "cell_type": "code",
   "execution_count": 83,
   "id": "65a18015-0a9f-49bb-a46d-385a100d3958",
   "metadata": {},
   "outputs": [],
   "source": [
    "X = bm_normalized_df.drop('diagnosis', axis=1)\n",
    "y = bm_normalized_df['diagnosis']\n",
    "\n",
    "X_train, X_test, y_train, y_test = train_test_split(X, y, test_size=0.2, random_state=42)"
   ]
  },
  {
   "cell_type": "code",
   "execution_count": 84,
   "id": "90a5a51a-f06d-4b41-86c7-b56def2719fa",
   "metadata": {},
   "outputs": [],
   "source": [
    "#Construction of a prediction model"
   ]
  },
  {
   "cell_type": "code",
   "execution_count": 85,
   "id": "089f1f25-c7b2-4bf2-a456-1c282334c2e2",
   "metadata": {},
   "outputs": [],
   "source": [
    "model = RandomForestClassifier(n_estimators=100, random_state=10)\n",
    "model.fit(X_train, y_train)\n",
    "\n",
    "predictions = model.predict(X_test)"
   ]
  },
  {
   "cell_type": "code",
   "execution_count": 86,
   "id": "78922a98-025d-44d7-bf67-6504c9371ede",
   "metadata": {},
   "outputs": [],
   "source": [
    "#Model evaluation"
   ]
  },
  {
   "cell_type": "code",
   "execution_count": 87,
   "id": "1dc64b41-1f8d-4d1b-a89d-8abae5bae5f0",
   "metadata": {},
   "outputs": [
    {
     "data": {
      "text/plain": [
       "'Model_accuracy: 1.00'"
      ]
     },
     "execution_count": 87,
     "metadata": {},
     "output_type": "execute_result"
    }
   ],
   "source": [
    "f'Model_accuracy: {accuracy:.2f}'"
   ]
  },
  {
   "cell_type": "code",
   "execution_count": 88,
   "id": "d3d75a1d-f1c1-4dae-890d-02ce3b87fdac",
   "metadata": {},
   "outputs": [
    {
     "name": "stdout",
     "output_type": "stream",
     "text": [
      "              precision    recall  f1-score   support\n",
      "\n",
      "           0       0.91      0.88      0.89        80\n",
      "           1       0.76      0.82      0.78        38\n",
      "\n",
      "    accuracy                           0.86       118\n",
      "   macro avg       0.83      0.85      0.84       118\n",
      "weighted avg       0.86      0.86      0.86       118\n",
      "\n"
     ]
    }
   ],
   "source": [
    "accuracy = accuracy_score(y_test, predictions)\n",
    "print(classification_report(y_test, predictions))"
   ]
  },
  {
   "cell_type": "code",
   "execution_count": 89,
   "id": "29b5fa02-8df0-4858-87ae-3ff9758fcfb4",
   "metadata": {},
   "outputs": [
    {
     "data": {
      "text/plain": [
       "118"
      ]
     },
     "execution_count": 89,
     "metadata": {},
     "output_type": "execute_result"
    }
   ],
   "source": [
    "len(y_test)"
   ]
  },
  {
   "cell_type": "code",
   "execution_count": 90,
   "id": "72b3d8fc-a3ab-477c-b32d-d9d9954f3212",
   "metadata": {},
   "outputs": [],
   "source": [
    "# Comparing predictions to baseline"
   ]
  },
  {
   "cell_type": "code",
   "execution_count": 91,
   "id": "bc752c3f-78a7-4bf4-9b9f-ca19d4d5eb57",
   "metadata": {
    "scrolled": true
   },
   "outputs": [
    {
     "name": "stdout",
     "output_type": "stream",
     "text": [
      "              precision    recall  f1-score   support\n",
      "\n",
      "           0       0.66      0.49      0.56        80\n",
      "           1       0.31      0.47      0.37        38\n",
      "\n",
      "    accuracy                           0.48       118\n",
      "   macro avg       0.48      0.48      0.47       118\n",
      "weighted avg       0.55      0.48      0.50       118\n",
      "\n"
     ]
    }
   ],
   "source": [
    "import random\n",
    "baseline_pred = [0]*59 + [1]*59\n",
    "random.shuffle(baseline_pred)\n",
    "print(classification_report(y_test, baseline_pred))"
   ]
  },
  {
   "cell_type": "code",
   "execution_count": 92,
   "id": "a1085014-063e-4069-a60e-e12a9cfb2467",
   "metadata": {},
   "outputs": [
    {
     "name": "stdout",
     "output_type": "stream",
     "text": [
      "              precision    recall  f1-score   support\n",
      "\n",
      "           0       0.70      0.70      0.70        80\n",
      "           1       0.37      0.37      0.37        38\n",
      "\n",
      "    accuracy                           0.59       118\n",
      "   macro avg       0.53      0.53      0.53       118\n",
      "weighted avg       0.59      0.59      0.59       118\n",
      "\n"
     ]
    }
   ],
   "source": [
    "import random\n",
    "baseline_pred = [0]*80 + [1]*38\n",
    "random.shuffle(baseline_pred)\n",
    "print(classification_report(y_test, baseline_pred))"
   ]
  },
  {
   "cell_type": "code",
   "execution_count": 93,
   "id": "af5c2137-bcee-41cd-8bcc-8f1c6164fc61",
   "metadata": {},
   "outputs": [
    {
     "data": {
      "application/vnd.plotly.v1+json": {
       "config": {
        "plotlyServerURL": "https://plot.ly"
       },
       "data": [
        {
         "alignmentgroup": "True",
         "hovertemplate": "Importance=%{marker.color}<br>Feature=%{y}<extra></extra>",
         "legendgroup": "",
         "marker": {
          "color": [
           0.21665992398162529,
           0.1722145218323294,
           0.1621334163470068,
           0.13561326893189624,
           0.12103811752581871,
           0.10219608964316912,
           0.07863816219671298,
           0.011506499541441437
          ],
          "coloraxis": "coloraxis",
          "pattern": {
           "shape": ""
          }
         },
         "name": "",
         "offsetgroup": "",
         "orientation": "h",
         "showlegend": false,
         "textposition": "auto",
         "type": "bar",
         "x": [
          0.21665992398162529,
          0.1722145218323294,
          0.1621334163470068,
          0.13561326893189624,
          0.12103811752581871,
          0.10219608964316912,
          0.07863816219671298,
          0.011506499541441437
         ],
         "xaxis": "x",
         "y": [
          "LYVE1",
          "TFF1",
          "plasma_CA19_9",
          "REG1B",
          "age",
          "creatinine",
          "REG1A",
          "sex"
         ],
         "yaxis": "y"
        }
       ],
       "layout": {
        "autosize": true,
        "barmode": "relative",
        "coloraxis": {
         "colorbar": {
          "title": {
           "text": "Importance"
          }
         },
         "colorscale": [
          [
           0,
           "#440154"
          ],
          [
           0.1111111111111111,
           "#482878"
          ],
          [
           0.2222222222222222,
           "#3e4989"
          ],
          [
           0.3333333333333333,
           "#31688e"
          ],
          [
           0.4444444444444444,
           "#26828e"
          ],
          [
           0.5555555555555556,
           "#1f9e89"
          ],
          [
           0.6666666666666666,
           "#35b779"
          ],
          [
           0.7777777777777778,
           "#6ece58"
          ],
          [
           0.8888888888888888,
           "#b5de2b"
          ],
          [
           1,
           "#fde725"
          ]
         ]
        },
        "legend": {
         "tracegroupgap": 0
        },
        "template": {
         "data": {
          "bar": [
           {
            "error_x": {
             "color": "#2a3f5f"
            },
            "error_y": {
             "color": "#2a3f5f"
            },
            "marker": {
             "line": {
              "color": "#E5ECF6",
              "width": 0.5
             },
             "pattern": {
              "fillmode": "overlay",
              "size": 10,
              "solidity": 0.2
             }
            },
            "type": "bar"
           }
          ],
          "barpolar": [
           {
            "marker": {
             "line": {
              "color": "#E5ECF6",
              "width": 0.5
             },
             "pattern": {
              "fillmode": "overlay",
              "size": 10,
              "solidity": 0.2
             }
            },
            "type": "barpolar"
           }
          ],
          "carpet": [
           {
            "aaxis": {
             "endlinecolor": "#2a3f5f",
             "gridcolor": "white",
             "linecolor": "white",
             "minorgridcolor": "white",
             "startlinecolor": "#2a3f5f"
            },
            "baxis": {
             "endlinecolor": "#2a3f5f",
             "gridcolor": "white",
             "linecolor": "white",
             "minorgridcolor": "white",
             "startlinecolor": "#2a3f5f"
            },
            "type": "carpet"
           }
          ],
          "choropleth": [
           {
            "colorbar": {
             "outlinewidth": 0,
             "ticks": ""
            },
            "type": "choropleth"
           }
          ],
          "contour": [
           {
            "colorbar": {
             "outlinewidth": 0,
             "ticks": ""
            },
            "colorscale": [
             [
              0,
              "#0d0887"
             ],
             [
              0.1111111111111111,
              "#46039f"
             ],
             [
              0.2222222222222222,
              "#7201a8"
             ],
             [
              0.3333333333333333,
              "#9c179e"
             ],
             [
              0.4444444444444444,
              "#bd3786"
             ],
             [
              0.5555555555555556,
              "#d8576b"
             ],
             [
              0.6666666666666666,
              "#ed7953"
             ],
             [
              0.7777777777777778,
              "#fb9f3a"
             ],
             [
              0.8888888888888888,
              "#fdca26"
             ],
             [
              1,
              "#f0f921"
             ]
            ],
            "type": "contour"
           }
          ],
          "contourcarpet": [
           {
            "colorbar": {
             "outlinewidth": 0,
             "ticks": ""
            },
            "type": "contourcarpet"
           }
          ],
          "heatmap": [
           {
            "colorbar": {
             "outlinewidth": 0,
             "ticks": ""
            },
            "colorscale": [
             [
              0,
              "#0d0887"
             ],
             [
              0.1111111111111111,
              "#46039f"
             ],
             [
              0.2222222222222222,
              "#7201a8"
             ],
             [
              0.3333333333333333,
              "#9c179e"
             ],
             [
              0.4444444444444444,
              "#bd3786"
             ],
             [
              0.5555555555555556,
              "#d8576b"
             ],
             [
              0.6666666666666666,
              "#ed7953"
             ],
             [
              0.7777777777777778,
              "#fb9f3a"
             ],
             [
              0.8888888888888888,
              "#fdca26"
             ],
             [
              1,
              "#f0f921"
             ]
            ],
            "type": "heatmap"
           }
          ],
          "heatmapgl": [
           {
            "colorbar": {
             "outlinewidth": 0,
             "ticks": ""
            },
            "colorscale": [
             [
              0,
              "#0d0887"
             ],
             [
              0.1111111111111111,
              "#46039f"
             ],
             [
              0.2222222222222222,
              "#7201a8"
             ],
             [
              0.3333333333333333,
              "#9c179e"
             ],
             [
              0.4444444444444444,
              "#bd3786"
             ],
             [
              0.5555555555555556,
              "#d8576b"
             ],
             [
              0.6666666666666666,
              "#ed7953"
             ],
             [
              0.7777777777777778,
              "#fb9f3a"
             ],
             [
              0.8888888888888888,
              "#fdca26"
             ],
             [
              1,
              "#f0f921"
             ]
            ],
            "type": "heatmapgl"
           }
          ],
          "histogram": [
           {
            "marker": {
             "pattern": {
              "fillmode": "overlay",
              "size": 10,
              "solidity": 0.2
             }
            },
            "type": "histogram"
           }
          ],
          "histogram2d": [
           {
            "colorbar": {
             "outlinewidth": 0,
             "ticks": ""
            },
            "colorscale": [
             [
              0,
              "#0d0887"
             ],
             [
              0.1111111111111111,
              "#46039f"
             ],
             [
              0.2222222222222222,
              "#7201a8"
             ],
             [
              0.3333333333333333,
              "#9c179e"
             ],
             [
              0.4444444444444444,
              "#bd3786"
             ],
             [
              0.5555555555555556,
              "#d8576b"
             ],
             [
              0.6666666666666666,
              "#ed7953"
             ],
             [
              0.7777777777777778,
              "#fb9f3a"
             ],
             [
              0.8888888888888888,
              "#fdca26"
             ],
             [
              1,
              "#f0f921"
             ]
            ],
            "type": "histogram2d"
           }
          ],
          "histogram2dcontour": [
           {
            "colorbar": {
             "outlinewidth": 0,
             "ticks": ""
            },
            "colorscale": [
             [
              0,
              "#0d0887"
             ],
             [
              0.1111111111111111,
              "#46039f"
             ],
             [
              0.2222222222222222,
              "#7201a8"
             ],
             [
              0.3333333333333333,
              "#9c179e"
             ],
             [
              0.4444444444444444,
              "#bd3786"
             ],
             [
              0.5555555555555556,
              "#d8576b"
             ],
             [
              0.6666666666666666,
              "#ed7953"
             ],
             [
              0.7777777777777778,
              "#fb9f3a"
             ],
             [
              0.8888888888888888,
              "#fdca26"
             ],
             [
              1,
              "#f0f921"
             ]
            ],
            "type": "histogram2dcontour"
           }
          ],
          "mesh3d": [
           {
            "colorbar": {
             "outlinewidth": 0,
             "ticks": ""
            },
            "type": "mesh3d"
           }
          ],
          "parcoords": [
           {
            "line": {
             "colorbar": {
              "outlinewidth": 0,
              "ticks": ""
             }
            },
            "type": "parcoords"
           }
          ],
          "pie": [
           {
            "automargin": true,
            "type": "pie"
           }
          ],
          "scatter": [
           {
            "fillpattern": {
             "fillmode": "overlay",
             "size": 10,
             "solidity": 0.2
            },
            "type": "scatter"
           }
          ],
          "scatter3d": [
           {
            "line": {
             "colorbar": {
              "outlinewidth": 0,
              "ticks": ""
             }
            },
            "marker": {
             "colorbar": {
              "outlinewidth": 0,
              "ticks": ""
             }
            },
            "type": "scatter3d"
           }
          ],
          "scattercarpet": [
           {
            "marker": {
             "colorbar": {
              "outlinewidth": 0,
              "ticks": ""
             }
            },
            "type": "scattercarpet"
           }
          ],
          "scattergeo": [
           {
            "marker": {
             "colorbar": {
              "outlinewidth": 0,
              "ticks": ""
             }
            },
            "type": "scattergeo"
           }
          ],
          "scattergl": [
           {
            "marker": {
             "colorbar": {
              "outlinewidth": 0,
              "ticks": ""
             }
            },
            "type": "scattergl"
           }
          ],
          "scattermapbox": [
           {
            "marker": {
             "colorbar": {
              "outlinewidth": 0,
              "ticks": ""
             }
            },
            "type": "scattermapbox"
           }
          ],
          "scatterpolar": [
           {
            "marker": {
             "colorbar": {
              "outlinewidth": 0,
              "ticks": ""
             }
            },
            "type": "scatterpolar"
           }
          ],
          "scatterpolargl": [
           {
            "marker": {
             "colorbar": {
              "outlinewidth": 0,
              "ticks": ""
             }
            },
            "type": "scatterpolargl"
           }
          ],
          "scatterternary": [
           {
            "marker": {
             "colorbar": {
              "outlinewidth": 0,
              "ticks": ""
             }
            },
            "type": "scatterternary"
           }
          ],
          "surface": [
           {
            "colorbar": {
             "outlinewidth": 0,
             "ticks": ""
            },
            "colorscale": [
             [
              0,
              "#0d0887"
             ],
             [
              0.1111111111111111,
              "#46039f"
             ],
             [
              0.2222222222222222,
              "#7201a8"
             ],
             [
              0.3333333333333333,
              "#9c179e"
             ],
             [
              0.4444444444444444,
              "#bd3786"
             ],
             [
              0.5555555555555556,
              "#d8576b"
             ],
             [
              0.6666666666666666,
              "#ed7953"
             ],
             [
              0.7777777777777778,
              "#fb9f3a"
             ],
             [
              0.8888888888888888,
              "#fdca26"
             ],
             [
              1,
              "#f0f921"
             ]
            ],
            "type": "surface"
           }
          ],
          "table": [
           {
            "cells": {
             "fill": {
              "color": "#EBF0F8"
             },
             "line": {
              "color": "white"
             }
            },
            "header": {
             "fill": {
              "color": "#C8D4E3"
             },
             "line": {
              "color": "white"
             }
            },
            "type": "table"
           }
          ]
         },
         "layout": {
          "annotationdefaults": {
           "arrowcolor": "#2a3f5f",
           "arrowhead": 0,
           "arrowwidth": 1
          },
          "autotypenumbers": "strict",
          "coloraxis": {
           "colorbar": {
            "outlinewidth": 0,
            "ticks": ""
           }
          },
          "colorscale": {
           "diverging": [
            [
             0,
             "#8e0152"
            ],
            [
             0.1,
             "#c51b7d"
            ],
            [
             0.2,
             "#de77ae"
            ],
            [
             0.3,
             "#f1b6da"
            ],
            [
             0.4,
             "#fde0ef"
            ],
            [
             0.5,
             "#f7f7f7"
            ],
            [
             0.6,
             "#e6f5d0"
            ],
            [
             0.7,
             "#b8e186"
            ],
            [
             0.8,
             "#7fbc41"
            ],
            [
             0.9,
             "#4d9221"
            ],
            [
             1,
             "#276419"
            ]
           ],
           "sequential": [
            [
             0,
             "#0d0887"
            ],
            [
             0.1111111111111111,
             "#46039f"
            ],
            [
             0.2222222222222222,
             "#7201a8"
            ],
            [
             0.3333333333333333,
             "#9c179e"
            ],
            [
             0.4444444444444444,
             "#bd3786"
            ],
            [
             0.5555555555555556,
             "#d8576b"
            ],
            [
             0.6666666666666666,
             "#ed7953"
            ],
            [
             0.7777777777777778,
             "#fb9f3a"
            ],
            [
             0.8888888888888888,
             "#fdca26"
            ],
            [
             1,
             "#f0f921"
            ]
           ],
           "sequentialminus": [
            [
             0,
             "#0d0887"
            ],
            [
             0.1111111111111111,
             "#46039f"
            ],
            [
             0.2222222222222222,
             "#7201a8"
            ],
            [
             0.3333333333333333,
             "#9c179e"
            ],
            [
             0.4444444444444444,
             "#bd3786"
            ],
            [
             0.5555555555555556,
             "#d8576b"
            ],
            [
             0.6666666666666666,
             "#ed7953"
            ],
            [
             0.7777777777777778,
             "#fb9f3a"
            ],
            [
             0.8888888888888888,
             "#fdca26"
            ],
            [
             1,
             "#f0f921"
            ]
           ]
          },
          "colorway": [
           "#636efa",
           "#EF553B",
           "#00cc96",
           "#ab63fa",
           "#FFA15A",
           "#19d3f3",
           "#FF6692",
           "#B6E880",
           "#FF97FF",
           "#FECB52"
          ],
          "font": {
           "color": "#2a3f5f"
          },
          "geo": {
           "bgcolor": "white",
           "lakecolor": "white",
           "landcolor": "#E5ECF6",
           "showlakes": true,
           "showland": true,
           "subunitcolor": "white"
          },
          "hoverlabel": {
           "align": "left"
          },
          "hovermode": "closest",
          "mapbox": {
           "style": "light"
          },
          "paper_bgcolor": "white",
          "plot_bgcolor": "#E5ECF6",
          "polar": {
           "angularaxis": {
            "gridcolor": "white",
            "linecolor": "white",
            "ticks": ""
           },
           "bgcolor": "#E5ECF6",
           "radialaxis": {
            "gridcolor": "white",
            "linecolor": "white",
            "ticks": ""
           }
          },
          "scene": {
           "xaxis": {
            "backgroundcolor": "#E5ECF6",
            "gridcolor": "white",
            "gridwidth": 2,
            "linecolor": "white",
            "showbackground": true,
            "ticks": "",
            "zerolinecolor": "white"
           },
           "yaxis": {
            "backgroundcolor": "#E5ECF6",
            "gridcolor": "white",
            "gridwidth": 2,
            "linecolor": "white",
            "showbackground": true,
            "ticks": "",
            "zerolinecolor": "white"
           },
           "zaxis": {
            "backgroundcolor": "#E5ECF6",
            "gridcolor": "white",
            "gridwidth": 2,
            "linecolor": "white",
            "showbackground": true,
            "ticks": "",
            "zerolinecolor": "white"
           }
          },
          "shapedefaults": {
           "line": {
            "color": "#2a3f5f"
           }
          },
          "ternary": {
           "aaxis": {
            "gridcolor": "white",
            "linecolor": "white",
            "ticks": ""
           },
           "baxis": {
            "gridcolor": "white",
            "linecolor": "white",
            "ticks": ""
           },
           "bgcolor": "#E5ECF6",
           "caxis": {
            "gridcolor": "white",
            "linecolor": "white",
            "ticks": ""
           }
          },
          "title": {
           "x": 0.05
          },
          "xaxis": {
           "automargin": true,
           "gridcolor": "white",
           "linecolor": "white",
           "ticks": "",
           "title": {
            "standoff": 15
           },
           "zerolinecolor": "white",
           "zerolinewidth": 2
          },
          "yaxis": {
           "automargin": true,
           "gridcolor": "white",
           "linecolor": "white",
           "ticks": "",
           "title": {
            "standoff": 15
           },
           "zerolinecolor": "white",
           "zerolinewidth": 2
          }
         }
        },
        "title": {
         "text": "Feature Importance in RandomForest Model"
        },
        "xaxis": {
         "anchor": "y",
         "autorange": true,
         "domain": [
          0,
          1
         ],
         "range": [
          0,
          0.22806307787539504
         ],
         "title": {
          "text": "Importance"
         },
         "type": "linear"
        },
        "yaxis": {
         "anchor": "x",
         "autorange": true,
         "domain": [
          0,
          1
         ],
         "range": [
          -0.5,
          7.5
         ],
         "title": {
          "text": "Feature"
         },
         "type": "category"
        }
       }
      },
      "image/png": "[encoded data removed]",
      "text/html": [
       "<div>                            <div id=\"5cd2756d-a6eb-4fb8-a122-3e7734e3643f\" class=\"plotly-graph-div\" style=\"height:525px; width:100%;\"></div>            <script type=\"text/javascript\">                require([\"plotly\"], function(Plotly) {                    window.PLOTLYENV=window.PLOTLYENV || {};                                    if (document.getElementById(\"5cd2756d-a6eb-4fb8-a122-3e7734e3643f\")) {                    Plotly.newPlot(                        \"5cd2756d-a6eb-4fb8-a122-3e7734e3643f\",                        [{\"alignmentgroup\":\"True\",\"hovertemplate\":\"Importance=%{marker.color}\\u003cbr\\u003eFeature=%{y}\\u003cextra\\u003e\\u003c\\u002fextra\\u003e\",\"legendgroup\":\"\",\"marker\":{\"color\":[0.21665992398162529,0.1722145218323294,0.1621334163470068,0.13561326893189624,0.12103811752581871,0.10219608964316912,0.07863816219671298,0.011506499541441437],\"coloraxis\":\"coloraxis\",\"pattern\":{\"shape\":\"\"}},\"name\":\"\",\"offsetgroup\":\"\",\"orientation\":\"h\",\"showlegend\":false,\"textposition\":\"auto\",\"x\":[0.21665992398162529,0.1722145218323294,0.1621334163470068,0.13561326893189624,0.12103811752581871,0.10219608964316912,0.07863816219671298,0.011506499541441437],\"xaxis\":\"x\",\"y\":[\"LYVE1\",\"TFF1\",\"plasma_CA19_9\",\"REG1B\",\"age\",\"creatinine\",\"REG1A\",\"sex\"],\"yaxis\":\"y\",\"type\":\"bar\"}],                        {\"template\":{\"data\":{\"histogram2dcontour\":[{\"type\":\"histogram2dcontour\",\"colorbar\":{\"outlinewidth\":0,\"ticks\":\"\"},\"colorscale\":[[0.0,\"#0d0887\"],[0.1111111111111111,\"#46039f\"],[0.2222222222222222,\"#7201a8\"],[0.3333333333333333,\"#9c179e\"],[0.4444444444444444,\"#bd3786\"],[0.5555555555555556,\"#d8576b\"],[0.6666666666666666,\"#ed7953\"],[0.7777777777777778,\"#fb9f3a\"],[0.8888888888888888,\"#fdca26\"],[1.0,\"#f0f921\"]]}],\"choropleth\":[{\"type\":\"choropleth\",\"colorbar\":{\"outlinewidth\":0,\"ticks\":\"\"}}],\"histogram2d\":[{\"type\":\"histogram2d\",\"colorbar\":{\"outlinewidth\":0,\"ticks\":\"\"},\"colorscale\":[[0.0,\"#0d0887\"],[0.1111111111111111,\"#46039f\"],[0.2222222222222222,\"#7201a8\"],[0.3333333333333333,\"#9c179e\"],[0.4444444444444444,\"#bd3786\"],[0.5555555555555556,\"#d8576b\"],[0.6666666666666666,\"#ed7953\"],[0.7777777777777778,\"#fb9f3a\"],[0.8888888888888888,\"#fdca26\"],[1.0,\"#f0f921\"]]}],\"heatmap\":[{\"type\":\"heatmap\",\"colorbar\":{\"outlinewidth\":0,\"ticks\":\"\"},\"colorscale\":[[0.0,\"#0d0887\"],[0.1111111111111111,\"#46039f\"],[0.2222222222222222,\"#7201a8\"],[0.3333333333333333,\"#9c179e\"],[0.4444444444444444,\"#bd3786\"],[0.5555555555555556,\"#d8576b\"],[0.6666666666666666,\"#ed7953\"],[0.7777777777777778,\"#fb9f3a\"],[0.8888888888888888,\"#fdca26\"],[1.0,\"#f0f921\"]]}],\"heatmapgl\":[{\"type\":\"heatmapgl\",\"colorbar\":{\"outlinewidth\":0,\"ticks\":\"\"},\"colorscale\":[[0.0,\"#0d0887\"],[0.1111111111111111,\"#46039f\"],[0.2222222222222222,\"#7201a8\"],[0.3333333333333333,\"#9c179e\"],[0.4444444444444444,\"#bd3786\"],[0.5555555555555556,\"#d8576b\"],[0.6666666666666666,\"#ed7953\"],[0.7777777777777778,\"#fb9f3a\"],[0.8888888888888888,\"#fdca26\"],[1.0,\"#f0f921\"]]}],\"contourcarpet\":[{\"type\":\"contourcarpet\",\"colorbar\":{\"outlinewidth\":0,\"ticks\":\"\"}}],\"contour\":[{\"type\":\"contour\",\"colorbar\":{\"outlinewidth\":0,\"ticks\":\"\"},\"colorscale\":[[0.0,\"#0d0887\"],[0.1111111111111111,\"#46039f\"],[0.2222222222222222,\"#7201a8\"],[0.3333333333333333,\"#9c179e\"],[0.4444444444444444,\"#bd3786\"],[0.5555555555555556,\"#d8576b\"],[0.6666666666666666,\"#ed7953\"],[0.7777777777777778,\"#fb9f3a\"],[0.8888888888888888,\"#fdca26\"],[1.0,\"#f0f921\"]]}],\"surface\":[{\"type\":\"surface\",\"colorbar\":{\"outlinewidth\":0,\"ticks\":\"\"},\"colorscale\":[[0.0,\"#0d0887\"],[0.1111111111111111,\"#46039f\"],[0.2222222222222222,\"#7201a8\"],[0.3333333333333333,\"#9c179e\"],[0.4444444444444444,\"#bd3786\"],[0.5555555555555556,\"#d8576b\"],[0.6666666666666666,\"#ed7953\"],[0.7777777777777778,\"#fb9f3a\"],[0.8888888888888888,\"#fdca26\"],[1.0,\"#f0f921\"]]}],\"mesh3d\":[{\"type\":\"mesh3d\",\"colorbar\":{\"outlinewidth\":0,\"ticks\":\"\"}}],\"scatter\":[{\"fillpattern\":{\"fillmode\":\"overlay\",\"size\":10,\"solidity\":0.2},\"type\":\"scatter\"}],\"parcoords\":[{\"type\":\"parcoords\",\"line\":{\"colorbar\":{\"outlinewidth\":0,\"ticks\":\"\"}}}],\"scatterpolargl\":[{\"type\":\"scatterpolargl\",\"marker\":{\"colorbar\":{\"outlinewidth\":0,\"ticks\":\"\"}}}],\"bar\":[{\"error_x\":{\"color\":\"#2a3f5f\"},\"error_y\":{\"color\":\"#2a3f5f\"},\"marker\":{\"line\":{\"color\":\"#E5ECF6\",\"width\":0.5},\"pattern\":{\"fillmode\":\"overlay\",\"size\":10,\"solidity\":0.2}},\"type\":\"bar\"}],\"scattergeo\":[{\"type\":\"scattergeo\",\"marker\":{\"colorbar\":{\"outlinewidth\":0,\"ticks\":\"\"}}}],\"scatterpolar\":[{\"type\":\"scatterpolar\",\"marker\":{\"colorbar\":{\"outlinewidth\":0,\"ticks\":\"\"}}}],\"histogram\":[{\"marker\":{\"pattern\":{\"fillmode\":\"overlay\",\"size\":10,\"solidity\":0.2}},\"type\":\"histogram\"}],\"scattergl\":[{\"type\":\"scattergl\",\"marker\":{\"colorbar\":{\"outlinewidth\":0,\"ticks\":\"\"}}}],\"scatter3d\":[{\"type\":\"scatter3d\",\"line\":{\"colorbar\":{\"outlinewidth\":0,\"ticks\":\"\"}},\"marker\":{\"colorbar\":{\"outlinewidth\":0,\"ticks\":\"\"}}}],\"scattermapbox\":[{\"type\":\"scattermapbox\",\"marker\":{\"colorbar\":{\"outlinewidth\":0,\"ticks\":\"\"}}}],\"scatterternary\":[{\"type\":\"scatterternary\",\"marker\":{\"colorbar\":{\"outlinewidth\":0,\"ticks\":\"\"}}}],\"scattercarpet\":[{\"type\":\"scattercarpet\",\"marker\":{\"colorbar\":{\"outlinewidth\":0,\"ticks\":\"\"}}}],\"carpet\":[{\"aaxis\":{\"endlinecolor\":\"#2a3f5f\",\"gridcolor\":\"white\",\"linecolor\":\"white\",\"minorgridcolor\":\"white\",\"startlinecolor\":\"#2a3f5f\"},\"baxis\":{\"endlinecolor\":\"#2a3f5f\",\"gridcolor\":\"white\",\"linecolor\":\"white\",\"minorgridcolor\":\"white\",\"startlinecolor\":\"#2a3f5f\"},\"type\":\"carpet\"}],\"table\":[{\"cells\":{\"fill\":{\"color\":\"#EBF0F8\"},\"line\":{\"color\":\"white\"}},\"header\":{\"fill\":{\"color\":\"#C8D4E3\"},\"line\":{\"color\":\"white\"}},\"type\":\"table\"}],\"barpolar\":[{\"marker\":{\"line\":{\"color\":\"#E5ECF6\",\"width\":0.5},\"pattern\":{\"fillmode\":\"overlay\",\"size\":10,\"solidity\":0.2}},\"type\":\"barpolar\"}],\"pie\":[{\"automargin\":true,\"type\":\"pie\"}]},\"layout\":{\"autotypenumbers\":\"strict\",\"colorway\":[\"#636efa\",\"#EF553B\",\"#00cc96\",\"#ab63fa\",\"#FFA15A\",\"#19d3f3\",\"#FF6692\",\"#B6E880\",\"#FF97FF\",\"#FECB52\"],\"font\":{\"color\":\"#2a3f5f\"},\"hovermode\":\"closest\",\"hoverlabel\":{\"align\":\"left\"},\"paper_bgcolor\":\"white\",\"plot_bgcolor\":\"#E5ECF6\",\"polar\":{\"bgcolor\":\"#E5ECF6\",\"angularaxis\":{\"gridcolor\":\"white\",\"linecolor\":\"white\",\"ticks\":\"\"},\"radialaxis\":{\"gridcolor\":\"white\",\"linecolor\":\"white\",\"ticks\":\"\"}},\"ternary\":{\"bgcolor\":\"#E5ECF6\",\"aaxis\":{\"gridcolor\":\"white\",\"linecolor\":\"white\",\"ticks\":\"\"},\"baxis\":{\"gridcolor\":\"white\",\"linecolor\":\"white\",\"ticks\":\"\"},\"caxis\":{\"gridcolor\":\"white\",\"linecolor\":\"white\",\"ticks\":\"\"}},\"coloraxis\":{\"colorbar\":{\"outlinewidth\":0,\"ticks\":\"\"}},\"colorscale\":{\"sequential\":[[0.0,\"#0d0887\"],[0.1111111111111111,\"#46039f\"],[0.2222222222222222,\"#7201a8\"],[0.3333333333333333,\"#9c179e\"],[0.4444444444444444,\"#bd3786\"],[0.5555555555555556,\"#d8576b\"],[0.6666666666666666,\"#ed7953\"],[0.7777777777777778,\"#fb9f3a\"],[0.8888888888888888,\"#fdca26\"],[1.0,\"#f0f921\"]],\"sequentialminus\":[[0.0,\"#0d0887\"],[0.1111111111111111,\"#46039f\"],[0.2222222222222222,\"#7201a8\"],[0.3333333333333333,\"#9c179e\"],[0.4444444444444444,\"#bd3786\"],[0.5555555555555556,\"#d8576b\"],[0.6666666666666666,\"#ed7953\"],[0.7777777777777778,\"#fb9f3a\"],[0.8888888888888888,\"#fdca26\"],[1.0,\"#f0f921\"]],\"diverging\":[[0,\"#8e0152\"],[0.1,\"#c51b7d\"],[0.2,\"#de77ae\"],[0.3,\"#f1b6da\"],[0.4,\"#fde0ef\"],[0.5,\"#f7f7f7\"],[0.6,\"#e6f5d0\"],[0.7,\"#b8e186\"],[0.8,\"#7fbc41\"],[0.9,\"#4d9221\"],[1,\"#276419\"]]},\"xaxis\":{\"gridcolor\":\"white\",\"linecolor\":\"white\",\"ticks\":\"\",\"title\":{\"standoff\":15},\"zerolinecolor\":\"white\",\"automargin\":true,\"zerolinewidth\":2},\"yaxis\":{\"gridcolor\":\"white\",\"linecolor\":\"white\",\"ticks\":\"\",\"title\":{\"standoff\":15},\"zerolinecolor\":\"white\",\"automargin\":true,\"zerolinewidth\":2},\"scene\":{\"xaxis\":{\"backgroundcolor\":\"#E5ECF6\",\"gridcolor\":\"white\",\"linecolor\":\"white\",\"showbackground\":true,\"ticks\":\"\",\"zerolinecolor\":\"white\",\"gridwidth\":2},\"yaxis\":{\"backgroundcolor\":\"#E5ECF6\",\"gridcolor\":\"white\",\"linecolor\":\"white\",\"showbackground\":true,\"ticks\":\"\",\"zerolinecolor\":\"white\",\"gridwidth\":2},\"zaxis\":{\"backgroundcolor\":\"#E5ECF6\",\"gridcolor\":\"white\",\"linecolor\":\"white\",\"showbackground\":true,\"ticks\":\"\",\"zerolinecolor\":\"white\",\"gridwidth\":2}},\"shapedefaults\":{\"line\":{\"color\":\"#2a3f5f\"}},\"annotationdefaults\":{\"arrowcolor\":\"#2a3f5f\",\"arrowhead\":0,\"arrowwidth\":1},\"geo\":{\"bgcolor\":\"white\",\"landcolor\":\"#E5ECF6\",\"subunitcolor\":\"white\",\"showland\":true,\"showlakes\":true,\"lakecolor\":\"white\"},\"title\":{\"x\":0.05},\"mapbox\":{\"style\":\"light\"}}},\"xaxis\":{\"anchor\":\"y\",\"domain\":[0.0,1.0],\"title\":{\"text\":\"Importance\"}},\"yaxis\":{\"anchor\":\"x\",\"domain\":[0.0,1.0],\"title\":{\"text\":\"Feature\"}},\"coloraxis\":{\"colorbar\":{\"title\":{\"text\":\"Importance\"}},\"colorscale\":[[0.0,\"#440154\"],[0.1111111111111111,\"#482878\"],[0.2222222222222222,\"#3e4989\"],[0.3333333333333333,\"#31688e\"],[0.4444444444444444,\"#26828e\"],[0.5555555555555556,\"#1f9e89\"],[0.6666666666666666,\"#35b779\"],[0.7777777777777778,\"#6ece58\"],[0.8888888888888888,\"#b5de2b\"],[1.0,\"#fde725\"]]},\"legend\":{\"tracegroupgap\":0},\"title\":{\"text\":\"Feature Importance in RandomForest Model\"},\"barmode\":\"relative\"},                        {\"responsive\": true}                    ).then(function(){\n",
       "                            \n",
       "var gd = document.getElementById('5cd2756d-a6eb-4fb8-a122-3e7734e3643f');\n",
       "var x = new MutationObserver(function (mutations, observer) {{\n",
       "        var display = window.getComputedStyle(gd).display;\n",
       "        if (!display || display === 'none') {{\n",
       "            console.log([gd, 'removed!']);\n",
       "            Plotly.purge(gd);\n",
       "            observer.disconnect();\n",
       "        }}\n",
       "}});\n",
       "\n",
       "// Listen for the removal of the full notebook cells\n",
       "var notebookContainer = gd.closest('#notebook-container');\n",
       "if (notebookContainer) {{\n",
       "    x.observe(notebookContainer, {childList: true});\n",
       "}}\n",
       "\n",
       "// Listen for the clearing of the current output cell\n",
       "var outputEl = gd.closest('.output');\n",
       "if (outputEl) {{\n",
       "    x.observe(outputEl, {childList: true});\n",
       "}}\n",
       "\n",
       "                        })                };                });            </script>        </div>"
      ]
     },
     "metadata": {},
     "output_type": "display_data"
    }
   ],
   "source": [
    "feature_importances = model.feature_importances_\n",
    "\n",
    "features_df = pd.DataFrame({'Feature': X_train.columns, 'Importance': feature_importances})\n",
    "\n",
    "features_df = features_df.sort_values(by='Importance', ascending=False)\n",
    "\n",
    "fig = px.bar(features_df, x='Importance', y='Feature', orientation='h',\n",
    "             title='Feature Importance in RandomForest Model',\n",
    "             labels={'Feature': 'Feature', 'Importance': 'Importance'},\n",
    "             color='Importance',\n",
    "             color_continuous_scale=px.colors.sequential.Viridis)\n",
    "\n",
    "fig.show()"
   ]
  },
  {
   "cell_type": "code",
   "execution_count": 94,
   "id": "44d1f16b-f11d-4412-8bdc-391e0f8a32f2",
   "metadata": {},
   "outputs": [],
   "source": [
    "# Confusion matrix"
   ]
  },
  {
   "cell_type": "code",
   "execution_count": 95,
   "id": "32cb90ac-ac7a-4f8a-88a6-ef544f885266",
   "metadata": {},
   "outputs": [
    {
     "data": {
      "image/png": "[encoded data removed]",
      "text/plain": [
       "<Figure size 640x480 with 2 Axes>"
      ]
     },
     "metadata": {},
     "output_type": "display_data"
    }
   ],
   "source": [
    "from sklearn.metrics import confusion_matrix, ConfusionMatrixDisplay\n",
    "\n",
    "predictions = model.predict(X_test)\n",
    "cm = confusion_matrix(y_test, predictions)\n",
    "\n",
    "disp = ConfusionMatrixDisplay(confusion_matrix=cm, display_labels=model.classes_)\n",
    "disp.plot(cmap='Grays')\n",
    "plt.show()"
   ]
  },
  {
   "cell_type": "markdown",
   "id": "faa3d2a8-309e-45e2-b996-598636a129f6",
   "metadata": {},
   "source": [
    "The model presented predicts which markers from those presented can have the greatest impact on detecting pancreatic cancer in patients. Creatinine may be the most relevant in this type of diagnosis but an extension of the model is needed to verify this.  "
   ]
  },
  {
   "cell_type": "code",
   "execution_count": null,
   "id": "91bb4e4a-12a6-4921-b55f-37df4bd21135",
   "metadata": {},
   "outputs": [],
   "source": []
  }
 ],
 "metadata": {
  "kernelspec": {
   "display_name": "BioPro1",
   "language": "python",
   "name": "biopro1"
  },
  "language_info": {
   "codemirror_mode": {
    "name": "ipython",
    "version": 3
   },
   "file_extension": ".py",
   "mimetype": "text/x-python",
   "name": "python",
   "nbconvert_exporter": "python",
   "pygments_lexer": "ipython3",
   "version": "3.10.12"
  }
 },
 "nbformat": 4,
 "nbformat_minor": 5
}
